{
 "cells": [
  {
   "cell_type": "markdown",
   "id": "2df5771b-1fa4-46b6-b707-6605fa4f5a4f",
   "metadata": {},
   "source": [
    "## Clustering Exercise: Customer Segmentation in E-commerce"
   ]
  },
  {
   "cell_type": "markdown",
   "id": "39d39468-d339-490e-8644-7bd1d7d5d4d1",
   "metadata": {},
   "source": [
    "### Overview\n",
    "<a href=\"https://archive.ics.uci.edu/ml/datasets/online+retail\">Online retail is a transnational data set</a> which contains all the transactions occurring between 01/12/2010 and 09/12/2011 for a UK-based and registered non-store online retail. The company mainly sells unique all-occasion gifts. Many customers of the company are wholesalers.\n",
    "\n",
    "| Column Name     | Description                                                         |\n",
    "| --------------- | ------------------------------------------------------------------- |\n",
    "| **InvoiceNo**   | Unique identifier for each transaction (a 6-digit integral number). |\n",
    "| **StockCode**   | Product (item) code.                                                |\n",
    "| **Description** | Product (item) name.                                                |\n",
    "| **Quantity**    | The number of units of the product purchased per transaction.       |\n",
    "| **InvoiceDate** | Date and time when the transaction occurred.                        |\n",
    "| **UnitPrice**   | Price per unit of the product (in GBP).                             |\n",
    "| **CustomerID**  | Unique identifier for each customer.                                |\n",
    "| **Country**     | The name of the country where the customer resides.                 |\n",
    "\n",
    "\n",
    "### Goal\n",
    "We aim to develop suitable and efficient marketing strategy for each segement of the Customers. Therefore, clustering is required to find meaningful customers segments\n",
    "\n",
    "### Approach\n",
    "Apply K-means clustering to to segment customers based on existing behavior to predict how a new customer is likely to act in the future.  That should ensure the company can target its customers efficiently with a corresponding marketing strategy.\n",
    "\n",
    "We will adopt the RFM analysis by calculating the three RFM metrics:\n",
    "- R (Recency): Number of days since last purchase\n",
    "- F (Frequency): Number of tracsactions\n",
    "- M (Monetary): Total amount of transactions (revenue contributed).\n",
    "\n",
    "We will use the RFM new variables as input for the clustering\n",
    "\n",
    "Follow the Jupyter notebook below and answer the tasks marked as ✅ Task for Students."
   ]
  },
  {
   "cell_type": "markdown",
   "id": "3d5fb6b8-772a-4028-a5d0-b73ed785b20f",
   "metadata": {},
   "source": [
    "<a id=\"1\"></a> <br>\n",
    "### 1. Import the basic packages and set the random seed"
   ]
  },
  {
   "cell_type": "code",
   "execution_count": 1,
   "id": "c38e5420-f702-4733-a467-1625733ea077",
   "metadata": {},
   "outputs": [],
   "source": [
    "# import required libraries for dataframe and visualization\n",
    "import numpy as np\n",
    "import pandas as pd\n",
    "import matplotlib.pyplot as plt\n",
    "import seaborn as sns"
   ]
  },
  {
   "cell_type": "code",
   "execution_count": 2,
   "id": "521d95ba-d6ce-4ab6-8216-3e12dc1c8d58",
   "metadata": {},
   "outputs": [],
   "source": [
    "# import required libraries for clustering\n",
    "import sklearn\n",
    "from sklearn.preprocessing import StandardScaler\n",
    "from sklearn.cluster import KMeans\n",
    "from sklearn.metrics import silhouette_score"
   ]
  },
  {
   "cell_type": "code",
   "execution_count": 3,
   "id": "f21f4a69-89e7-4996-b83a-a0e3bbe961a9",
   "metadata": {},
   "outputs": [],
   "source": [
    "kmeans = KMeans"
   ]
  },
  {
   "cell_type": "code",
   "execution_count": 4,
   "id": "33e499ca-5444-4f52-8ae2-57b378b62cbe",
   "metadata": {},
   "outputs": [],
   "source": [
    "# to ensure reproducibility\n",
    "RANDOM_STATE = 42\n",
    "np.random.seed(RANDOM_STATE)"
   ]
  },
  {
   "cell_type": "markdown",
   "id": "f577740e-0c94-45ed-b4e1-94be19b907cc",
   "metadata": {},
   "source": [
    "### 2. Load and Preview the Data"
   ]
  },
  {
   "cell_type": "markdown",
   "id": "f6d41a98-2a54-45f6-8406-0e28aa238b7b",
   "metadata": {},
   "source": [
    "Start by loading the dataset and inspecting the first few rows."
   ]
  },
  {
   "cell_type": "code",
   "execution_count": 5,
   "id": "b784c167-1c51-48b6-8e59-0981841c6374",
   "metadata": {},
   "outputs": [
    {
     "data": {
      "text/html": [
       "<div>\n",
       "<style scoped>\n",
       "    .dataframe tbody tr th:only-of-type {\n",
       "        vertical-align: middle;\n",
       "    }\n",
       "\n",
       "    .dataframe tbody tr th {\n",
       "        vertical-align: top;\n",
       "    }\n",
       "\n",
       "    .dataframe thead th {\n",
       "        text-align: right;\n",
       "    }\n",
       "</style>\n",
       "<table border=\"1\" class=\"dataframe\">\n",
       "  <thead>\n",
       "    <tr style=\"text-align: right;\">\n",
       "      <th></th>\n",
       "      <th>InvoiceNo</th>\n",
       "      <th>StockCode</th>\n",
       "      <th>Description</th>\n",
       "      <th>Quantity</th>\n",
       "      <th>InvoiceDate</th>\n",
       "      <th>UnitPrice</th>\n",
       "      <th>CustomerID</th>\n",
       "      <th>Country</th>\n",
       "    </tr>\n",
       "  </thead>\n",
       "  <tbody>\n",
       "    <tr>\n",
       "      <th>0</th>\n",
       "      <td>536365</td>\n",
       "      <td>85123A</td>\n",
       "      <td>WHITE HANGING HEART T-LIGHT HOLDER</td>\n",
       "      <td>6</td>\n",
       "      <td>12/1/2010 8:26</td>\n",
       "      <td>2.55</td>\n",
       "      <td>17850.0</td>\n",
       "      <td>United Kingdom</td>\n",
       "    </tr>\n",
       "    <tr>\n",
       "      <th>1</th>\n",
       "      <td>536365</td>\n",
       "      <td>71053</td>\n",
       "      <td>WHITE METAL LANTERN</td>\n",
       "      <td>6</td>\n",
       "      <td>12/1/2010 8:26</td>\n",
       "      <td>3.39</td>\n",
       "      <td>17850.0</td>\n",
       "      <td>United Kingdom</td>\n",
       "    </tr>\n",
       "    <tr>\n",
       "      <th>2</th>\n",
       "      <td>536365</td>\n",
       "      <td>84406B</td>\n",
       "      <td>CREAM CUPID HEARTS COAT HANGER</td>\n",
       "      <td>8</td>\n",
       "      <td>12/1/2010 8:26</td>\n",
       "      <td>2.75</td>\n",
       "      <td>17850.0</td>\n",
       "      <td>United Kingdom</td>\n",
       "    </tr>\n",
       "    <tr>\n",
       "      <th>3</th>\n",
       "      <td>536365</td>\n",
       "      <td>84029G</td>\n",
       "      <td>KNITTED UNION FLAG HOT WATER BOTTLE</td>\n",
       "      <td>6</td>\n",
       "      <td>12/1/2010 8:26</td>\n",
       "      <td>3.39</td>\n",
       "      <td>17850.0</td>\n",
       "      <td>United Kingdom</td>\n",
       "    </tr>\n",
       "    <tr>\n",
       "      <th>4</th>\n",
       "      <td>536365</td>\n",
       "      <td>84029E</td>\n",
       "      <td>RED WOOLLY HOTTIE WHITE HEART.</td>\n",
       "      <td>6</td>\n",
       "      <td>12/1/2010 8:26</td>\n",
       "      <td>3.39</td>\n",
       "      <td>17850.0</td>\n",
       "      <td>United Kingdom</td>\n",
       "    </tr>\n",
       "  </tbody>\n",
       "</table>\n",
       "</div>"
      ],
      "text/plain": [
       "  InvoiceNo StockCode                          Description  Quantity  \\\n",
       "0    536365    85123A   WHITE HANGING HEART T-LIGHT HOLDER         6   \n",
       "1    536365     71053                  WHITE METAL LANTERN         6   \n",
       "2    536365    84406B       CREAM CUPID HEARTS COAT HANGER         8   \n",
       "3    536365    84029G  KNITTED UNION FLAG HOT WATER BOTTLE         6   \n",
       "4    536365    84029E       RED WOOLLY HOTTIE WHITE HEART.         6   \n",
       "\n",
       "      InvoiceDate  UnitPrice  CustomerID         Country  \n",
       "0  12/1/2010 8:26       2.55     17850.0  United Kingdom  \n",
       "1  12/1/2010 8:26       3.39     17850.0  United Kingdom  \n",
       "2  12/1/2010 8:26       2.75     17850.0  United Kingdom  \n",
       "3  12/1/2010 8:26       3.39     17850.0  United Kingdom  \n",
       "4  12/1/2010 8:26       3.39     17850.0  United Kingdom  "
      ]
     },
     "execution_count": 5,
     "metadata": {},
     "output_type": "execute_result"
    }
   ],
   "source": [
    "# Load the dataset\n",
    "data=pd.read_csv('./OnlineRetail.csv', encoding= 'cp1252' , header=0)\n",
    "\n",
    "# Preview the dataset\n",
    "data.head()"
   ]
  },
  {
   "cell_type": "code",
   "execution_count": 6,
   "id": "b6960af1-8ac6-4440-a76c-515631a556eb",
   "metadata": {},
   "outputs": [
    {
     "name": "stdout",
     "output_type": "stream",
     "text": [
      "<class 'pandas.core.frame.DataFrame'>\n",
      "RangeIndex: 541909 entries, 0 to 541908\n",
      "Data columns (total 8 columns):\n",
      " #   Column       Non-Null Count   Dtype  \n",
      "---  ------       --------------   -----  \n",
      " 0   InvoiceNo    541909 non-null  object \n",
      " 1   StockCode    541909 non-null  object \n",
      " 2   Description  540455 non-null  object \n",
      " 3   Quantity     541909 non-null  int64  \n",
      " 4   InvoiceDate  541909 non-null  object \n",
      " 5   UnitPrice    541909 non-null  float64\n",
      " 6   CustomerID   406829 non-null  float64\n",
      " 7   Country      541909 non-null  object \n",
      "dtypes: float64(2), int64(1), object(5)\n",
      "memory usage: 33.1+ MB\n"
     ]
    }
   ],
   "source": [
    "# check column types and existance of NaNs\n",
    "data.info()"
   ]
  },
  {
   "cell_type": "code",
   "execution_count": 18,
   "id": "9f3d429c-88b6-4705-89f0-3ce2aebeb5f6",
   "metadata": {},
   "outputs": [
    {
     "name": "stdout",
     "output_type": "stream",
     "text": [
      "<class 'pandas.core.frame.DataFrame'>\n",
      "Index: 397884 entries, 0 to 541908\n",
      "Data columns (total 8 columns):\n",
      " #   Column       Non-Null Count   Dtype  \n",
      "---  ------       --------------   -----  \n",
      " 0   InvoiceNo    397884 non-null  object \n",
      " 1   StockCode    397884 non-null  object \n",
      " 2   Description  397884 non-null  object \n",
      " 3   Quantity     397884 non-null  float64\n",
      " 4   InvoiceDate  397884 non-null  object \n",
      " 5   UnitPrice    397884 non-null  float64\n",
      " 6   CustomerID   397884 non-null  float64\n",
      " 7   Country      397884 non-null  object \n",
      "dtypes: float64(3), object(5)\n",
      "memory usage: 27.3+ MB\n"
     ]
    }
   ],
   "source": [
    "data.info()"
   ]
  },
  {
   "cell_type": "code",
   "execution_count": 7,
   "id": "ef3b40c7-a098-4ef6-a3bb-6056fc972293",
   "metadata": {},
   "outputs": [
    {
     "data": {
      "text/html": [
       "<div>\n",
       "<style scoped>\n",
       "    .dataframe tbody tr th:only-of-type {\n",
       "        vertical-align: middle;\n",
       "    }\n",
       "\n",
       "    .dataframe tbody tr th {\n",
       "        vertical-align: top;\n",
       "    }\n",
       "\n",
       "    .dataframe thead th {\n",
       "        text-align: right;\n",
       "    }\n",
       "</style>\n",
       "<table border=\"1\" class=\"dataframe\">\n",
       "  <thead>\n",
       "    <tr style=\"text-align: right;\">\n",
       "      <th></th>\n",
       "      <th>Quantity</th>\n",
       "      <th>UnitPrice</th>\n",
       "      <th>CustomerID</th>\n",
       "    </tr>\n",
       "  </thead>\n",
       "  <tbody>\n",
       "    <tr>\n",
       "      <th>count</th>\n",
       "      <td>541909.000000</td>\n",
       "      <td>541909.000000</td>\n",
       "      <td>406829.000000</td>\n",
       "    </tr>\n",
       "    <tr>\n",
       "      <th>mean</th>\n",
       "      <td>9.552250</td>\n",
       "      <td>4.611114</td>\n",
       "      <td>15287.690570</td>\n",
       "    </tr>\n",
       "    <tr>\n",
       "      <th>std</th>\n",
       "      <td>218.081158</td>\n",
       "      <td>96.759853</td>\n",
       "      <td>1713.600303</td>\n",
       "    </tr>\n",
       "    <tr>\n",
       "      <th>min</th>\n",
       "      <td>-80995.000000</td>\n",
       "      <td>-11062.060000</td>\n",
       "      <td>12346.000000</td>\n",
       "    </tr>\n",
       "    <tr>\n",
       "      <th>25%</th>\n",
       "      <td>1.000000</td>\n",
       "      <td>1.250000</td>\n",
       "      <td>13953.000000</td>\n",
       "    </tr>\n",
       "    <tr>\n",
       "      <th>50%</th>\n",
       "      <td>3.000000</td>\n",
       "      <td>2.080000</td>\n",
       "      <td>15152.000000</td>\n",
       "    </tr>\n",
       "    <tr>\n",
       "      <th>75%</th>\n",
       "      <td>10.000000</td>\n",
       "      <td>4.130000</td>\n",
       "      <td>16791.000000</td>\n",
       "    </tr>\n",
       "    <tr>\n",
       "      <th>max</th>\n",
       "      <td>80995.000000</td>\n",
       "      <td>38970.000000</td>\n",
       "      <td>18287.000000</td>\n",
       "    </tr>\n",
       "  </tbody>\n",
       "</table>\n",
       "</div>"
      ],
      "text/plain": [
       "            Quantity      UnitPrice     CustomerID\n",
       "count  541909.000000  541909.000000  406829.000000\n",
       "mean        9.552250       4.611114   15287.690570\n",
       "std       218.081158      96.759853    1713.600303\n",
       "min    -80995.000000  -11062.060000   12346.000000\n",
       "25%         1.000000       1.250000   13953.000000\n",
       "50%         3.000000       2.080000   15152.000000\n",
       "75%        10.000000       4.130000   16791.000000\n",
       "max     80995.000000   38970.000000   18287.000000"
      ]
     },
     "execution_count": 7,
     "metadata": {},
     "output_type": "execute_result"
    }
   ],
   "source": [
    "# check the distribution of the numerical features\n",
    "data.describe()"
   ]
  },
  {
   "cell_type": "markdown",
   "id": "caafe6ad-d758-4322-a8d4-764bd05376f1",
   "metadata": {},
   "source": [
    "<a id=\"2\"></a> <br>\n",
    "### 3. Data Cleansing"
   ]
  },
  {
   "cell_type": "markdown",
   "id": "0db9c928-9857-47a0-839b-5d291e2149c1",
   "metadata": {},
   "source": [
    "✅ Task for Students: Drop rows with missing values."
   ]
  },
  {
   "cell_type": "code",
   "execution_count": 17,
   "id": "85fe444b-8187-4f58-b8e7-cb6ba11cece4",
   "metadata": {},
   "outputs": [],
   "source": [
    "# Drop all rows with missing values: this will drop all rows where customer ID is missing, notice that this cannot be imputed\n",
    "data.dropna(inplace=True)"
   ]
  },
  {
   "cell_type": "markdown",
   "id": "872e691d-b33b-459f-b3b4-e55584a9ff13",
   "metadata": {},
   "source": [
    "✅ Task for Students: Remove any entries where `Quantity` or `UnitPrice` is zero or negative, as these entries likely represent errors."
   ]
  },
  {
   "cell_type": "code",
   "execution_count": 15,
   "id": "5a6cd481-25bc-4568-9ed5-f40d24b3bdb9",
   "metadata": {},
   "outputs": [],
   "source": [
    "data[\"Quantity\"] =np.where(data['Quantity']<=0, np.nan,data['Quantity'] )\n",
    "data[\"UnitPrice\"] =np.where(data['UnitPrice']<=0, np.nan,data['UnitPrice'] )"
   ]
  },
  {
   "cell_type": "code",
   "execution_count": 16,
   "id": "f7d9a28b-63ed-4413-bb31-b36f143fc9a3",
   "metadata": {},
   "outputs": [
    {
     "data": {
      "text/html": [
       "<div>\n",
       "<style scoped>\n",
       "    .dataframe tbody tr th:only-of-type {\n",
       "        vertical-align: middle;\n",
       "    }\n",
       "\n",
       "    .dataframe tbody tr th {\n",
       "        vertical-align: top;\n",
       "    }\n",
       "\n",
       "    .dataframe thead th {\n",
       "        text-align: right;\n",
       "    }\n",
       "</style>\n",
       "<table border=\"1\" class=\"dataframe\">\n",
       "  <thead>\n",
       "    <tr style=\"text-align: right;\">\n",
       "      <th></th>\n",
       "      <th>Quantity</th>\n",
       "      <th>UnitPrice</th>\n",
       "      <th>CustomerID</th>\n",
       "    </tr>\n",
       "  </thead>\n",
       "  <tbody>\n",
       "    <tr>\n",
       "      <th>count</th>\n",
       "      <td>531285.000000</td>\n",
       "      <td>539392.000000</td>\n",
       "      <td>406829.000000</td>\n",
       "    </tr>\n",
       "    <tr>\n",
       "      <th>mean</th>\n",
       "      <td>10.655262</td>\n",
       "      <td>4.673648</td>\n",
       "      <td>15287.690570</td>\n",
       "    </tr>\n",
       "    <tr>\n",
       "      <th>std</th>\n",
       "      <td>156.830323</td>\n",
       "      <td>94.614722</td>\n",
       "      <td>1713.600303</td>\n",
       "    </tr>\n",
       "    <tr>\n",
       "      <th>min</th>\n",
       "      <td>1.000000</td>\n",
       "      <td>0.001000</td>\n",
       "      <td>12346.000000</td>\n",
       "    </tr>\n",
       "    <tr>\n",
       "      <th>25%</th>\n",
       "      <td>1.000000</td>\n",
       "      <td>1.250000</td>\n",
       "      <td>13953.000000</td>\n",
       "    </tr>\n",
       "    <tr>\n",
       "      <th>50%</th>\n",
       "      <td>3.000000</td>\n",
       "      <td>2.080000</td>\n",
       "      <td>15152.000000</td>\n",
       "    </tr>\n",
       "    <tr>\n",
       "      <th>75%</th>\n",
       "      <td>10.000000</td>\n",
       "      <td>4.130000</td>\n",
       "      <td>16791.000000</td>\n",
       "    </tr>\n",
       "    <tr>\n",
       "      <th>max</th>\n",
       "      <td>80995.000000</td>\n",
       "      <td>38970.000000</td>\n",
       "      <td>18287.000000</td>\n",
       "    </tr>\n",
       "  </tbody>\n",
       "</table>\n",
       "</div>"
      ],
      "text/plain": [
       "            Quantity      UnitPrice     CustomerID\n",
       "count  531285.000000  539392.000000  406829.000000\n",
       "mean       10.655262       4.673648   15287.690570\n",
       "std       156.830323      94.614722    1713.600303\n",
       "min         1.000000       0.001000   12346.000000\n",
       "25%         1.000000       1.250000   13953.000000\n",
       "50%         3.000000       2.080000   15152.000000\n",
       "75%        10.000000       4.130000   16791.000000\n",
       "max     80995.000000   38970.000000   18287.000000"
      ]
     },
     "execution_count": 16,
     "metadata": {},
     "output_type": "execute_result"
    }
   ],
   "source": [
    "data.describe()"
   ]
  },
  {
   "cell_type": "code",
   "execution_count": 10,
   "id": "04553bc5-02ca-401b-89df-251d3f45ab56",
   "metadata": {},
   "outputs": [],
   "source": [
    "# Remove rows with Quantity and UnitPrice <= 0\n",
    "data = data[(data['Quantity'] > 0) & (data['UnitPrice'] > 0)]"
   ]
  },
  {
   "cell_type": "code",
   "execution_count": 11,
   "id": "304e8ccc-113d-4cf2-8b0c-06151ea4b75f",
   "metadata": {},
   "outputs": [
    {
     "name": "stdout",
     "output_type": "stream",
     "text": [
      "<class 'pandas.core.frame.DataFrame'>\n",
      "Index: 397884 entries, 0 to 541908\n",
      "Data columns (total 8 columns):\n",
      " #   Column       Non-Null Count   Dtype  \n",
      "---  ------       --------------   -----  \n",
      " 0   InvoiceNo    397884 non-null  object \n",
      " 1   StockCode    397884 non-null  object \n",
      " 2   Description  397884 non-null  object \n",
      " 3   Quantity     397884 non-null  int64  \n",
      " 4   InvoiceDate  397884 non-null  object \n",
      " 5   UnitPrice    397884 non-null  float64\n",
      " 6   CustomerID   397884 non-null  float64\n",
      " 7   Country      397884 non-null  object \n",
      "dtypes: float64(2), int64(1), object(5)\n",
      "memory usage: 27.3+ MB\n"
     ]
    }
   ],
   "source": [
    "# Confirm cleaned data\n",
    "data.info()"
   ]
  },
  {
   "cell_type": "markdown",
   "id": "38456ebb-e595-4323-b183-9f68cdd85030",
   "metadata": {},
   "source": [
    "<a id=\"3\"></a> <br>\n",
    "### 4. Feature Engineering"
   ]
  },
  {
   "cell_type": "markdown",
   "id": "381b0687-8c71-4711-b68f-7cdd3817d707",
   "metadata": {},
   "source": [
    "✅ Task for Students:\n",
    "For customer segmentation, it is often need to conduct an RFM analysis by calculating three customers metrics:\n",
    "- R (Recency): Number of days since last purchase\n",
    "- F (Frequency): Number of tracsactions\n",
    "- M (Monetary): Total amount of transactions (revenue contributed).\n",
    "\n",
    "Your task is to compute these three features for each customer."
   ]
  },
  {
   "cell_type": "code",
   "execution_count": 19,
   "id": "4e6dd103-1dcd-42de-8cb5-695d2030cd52",
   "metadata": {},
   "outputs": [],
   "source": [
    "from datetime import datetime\n",
    "\n",
    "# Convert InvoiceDate to datetime\n",
    "data['InvoiceDate'] = pd.to_datetime(data['InvoiceDate'])\n",
    "\n",
    "# Set the reference date (one day after the last transaction)\n",
    "reference_date = data['InvoiceDate'].max() + pd.Timedelta(days=1)"
   ]
  },
  {
   "cell_type": "code",
   "execution_count": 20,
   "id": "7fa27431-6ac5-4098-a60b-727df40d612b",
   "metadata": {},
   "outputs": [],
   "source": [
    "#Total amount of transactions (revenue contributed)\n",
    "data['TotalPrice'] = data['Quantity'] * data['UnitPrice']"
   ]
  },
  {
   "cell_type": "code",
   "execution_count": 21,
   "id": "7c917342-eb5a-4875-93c5-c696b799a101",
   "metadata": {},
   "outputs": [],
   "source": [
    "# Compute RFM metrics per customer, you can break this code down to several lines if you feel it is too hard, as in the cell below\n",
    "rfm = (\n",
    "    data.groupby('CustomerID')\n",
    "        .agg(\n",
    "            Recency=('InvoiceDate', lambda x: (reference_date - x.max()).days),\n",
    "            Frequency=('InvoiceNo', 'nunique'),\n",
    "            Monetary=('TotalPrice', 'sum')\n",
    "        )\n",
    "        .reset_index()\n",
    ")"
   ]
  },
  {
   "cell_type": "code",
   "execution_count": 14,
   "id": "ed82e368-0188-421f-ba6b-4b56bf80b53e",
   "metadata": {},
   "outputs": [],
   "source": [
    "# Step 1: Calculate Recency\n",
    "recency = data.groupby('CustomerID')['InvoiceDate'].max()\n",
    "recency = (reference_date - recency).dt.days\n",
    "recency = recency.reset_index()\n",
    "recency.columns = ['CustomerID', 'Recency']\n",
    "\n",
    "# Step 2: Calculate Frequency (number of unique invoices)\n",
    "frequency = data.groupby('CustomerID')['InvoiceNo'].nunique().reset_index()\n",
    "frequency.columns = ['CustomerID', 'Frequency']\n",
    "\n",
    "# Step 3: Calculate Monetary value (total purchase amount)\n",
    "monetary = data.groupby('CustomerID')['TotalPrice'].sum().reset_index()\n",
    "monetary.columns = ['CustomerID', 'Monetary']\n",
    "\n",
    "# Step 4: Merge all three RFM components into one DataFrame\n",
    "rfm = recency.merge(frequency, on='CustomerID').merge(monetary, on='CustomerID')"
   ]
  },
  {
   "cell_type": "code",
   "execution_count": 22,
   "id": "3311ad43-7e55-423a-9065-f98ba0c34414",
   "metadata": {},
   "outputs": [
    {
     "data": {
      "text/html": [
       "<div>\n",
       "<style scoped>\n",
       "    .dataframe tbody tr th:only-of-type {\n",
       "        vertical-align: middle;\n",
       "    }\n",
       "\n",
       "    .dataframe tbody tr th {\n",
       "        vertical-align: top;\n",
       "    }\n",
       "\n",
       "    .dataframe thead th {\n",
       "        text-align: right;\n",
       "    }\n",
       "</style>\n",
       "<table border=\"1\" class=\"dataframe\">\n",
       "  <thead>\n",
       "    <tr style=\"text-align: right;\">\n",
       "      <th></th>\n",
       "      <th>CustomerID</th>\n",
       "      <th>Recency</th>\n",
       "      <th>Frequency</th>\n",
       "      <th>Monetary</th>\n",
       "    </tr>\n",
       "  </thead>\n",
       "  <tbody>\n",
       "    <tr>\n",
       "      <th>0</th>\n",
       "      <td>12346.0</td>\n",
       "      <td>326</td>\n",
       "      <td>1</td>\n",
       "      <td>77183.60</td>\n",
       "    </tr>\n",
       "    <tr>\n",
       "      <th>1</th>\n",
       "      <td>12347.0</td>\n",
       "      <td>2</td>\n",
       "      <td>7</td>\n",
       "      <td>4310.00</td>\n",
       "    </tr>\n",
       "    <tr>\n",
       "      <th>2</th>\n",
       "      <td>12348.0</td>\n",
       "      <td>75</td>\n",
       "      <td>4</td>\n",
       "      <td>1797.24</td>\n",
       "    </tr>\n",
       "    <tr>\n",
       "      <th>3</th>\n",
       "      <td>12349.0</td>\n",
       "      <td>19</td>\n",
       "      <td>1</td>\n",
       "      <td>1757.55</td>\n",
       "    </tr>\n",
       "    <tr>\n",
       "      <th>4</th>\n",
       "      <td>12350.0</td>\n",
       "      <td>310</td>\n",
       "      <td>1</td>\n",
       "      <td>334.40</td>\n",
       "    </tr>\n",
       "  </tbody>\n",
       "</table>\n",
       "</div>"
      ],
      "text/plain": [
       "   CustomerID  Recency  Frequency  Monetary\n",
       "0     12346.0      326          1  77183.60\n",
       "1     12347.0        2          7   4310.00\n",
       "2     12348.0       75          4   1797.24\n",
       "3     12349.0       19          1   1757.55\n",
       "4     12350.0      310          1    334.40"
      ]
     },
     "execution_count": 22,
     "metadata": {},
     "output_type": "execute_result"
    }
   ],
   "source": [
    "# Preview the RFM data\n",
    "rfm.head()"
   ]
  },
  {
   "cell_type": "markdown",
   "id": "cf596dc8-bba7-4f50-b822-36eff1dc2e24",
   "metadata": {},
   "source": [
    "### 5. Data Exploration and Visualization\n",
    "\n",
    "Use visualizations to understand the distributions of **Recency**, **Frequency**, and **Monetary** values."
   ]
  },
  {
   "cell_type": "code",
   "execution_count": 23,
   "id": "be663926-b827-4c51-82c6-88509aca1593",
   "metadata": {},
   "outputs": [
    {
     "data": {
      "image/png": "[encoded data removed]",
      "text/plain": [
       "<Figure size 1500x500 with 3 Axes>"
      ]
     },
     "metadata": {},
     "output_type": "display_data"
    }
   ],
   "source": [
    "# Plot histograms for each RFM metric\n",
    "fig, axes = plt.subplots(1, 3, figsize=(15, 5))\n",
    "\n",
    "sns.histplot(rfm['Recency'], bins=30, kde=True, ax=axes[0], color=\"skyblue\")\n",
    "axes[0].set_title('Recency Distribution')\n",
    "\n",
    "sns.histplot(rfm['Frequency'], bins=30, kde=True, ax=axes[1], color=\"olive\")\n",
    "axes[1].set_title('Frequency Distribution')\n",
    "\n",
    "sns.histplot(rfm['Monetary'], bins=30, kde=True, ax=axes[2], color=\"gold\")\n",
    "axes[2].set_title('Monetary Distribution')\n",
    "\n",
    "plt.tight_layout()\n",
    "plt.show()"
   ]
  },
  {
   "cell_type": "markdown",
   "id": "3f8365fd-d501-463e-aee1-50595b9666d4",
   "metadata": {},
   "source": [
    "✅ Task for Students: use box plot to plot the distribution of each the new features "
   ]
  },
  {
   "cell_type": "code",
   "execution_count": 24,
   "id": "8b1fa1e0-0508-4b04-b5c7-cd29855bed87",
   "metadata": {},
   "outputs": [
    {
     "data": {
      "image/png": "[encoded data removed]",
      "text/plain": [
       "<Figure size 1500x500 with 3 Axes>"
      ]
     },
     "metadata": {},
     "output_type": "display_data"
    }
   ],
   "source": [
    "# Outlier Analysis of Amount, Frequency, and Recency\n",
    "attributes = ['Monetary', 'Frequency', 'Recency']\n",
    "\n",
    "# Create subplots\n",
    "fig, axes = plt.subplots(1, 3, figsize=(15, 5))\n",
    "\n",
    "# Plot each attribute in a separate subplot\n",
    "for i, attr in enumerate(attributes):\n",
    "    axes[i].boxplot(rfm[attr], vert=True, patch_artist=True, \n",
    "                    boxprops=dict(facecolor=\"skyblue\", color=\"blue\"),\n",
    "                    medianprops=dict(color=\"red\"),\n",
    "                    whiskerprops=dict(color=\"blue\"),\n",
    "                    capprops=dict(color=\"blue\"))\n",
    "    \n",
    "    # Set title and labels for each subplot\n",
    "    axes[i].set_title(f\"{attr} Outliers\", fontsize=14, fontweight='bold')\n",
    "    axes[i].set_ylabel(\"Range\", fontweight='bold')\n",
    "    axes[i].set_xlabel(attr, fontweight='bold')\n",
    "\n",
    "# Adjust layout\n",
    "plt.suptitle(\"Outlier Analysis of RFM Attributes\", fontsize=16, fontweight='bold')\n",
    "plt.tight_layout(rect=[0, 0, 1, 0.95])\n",
    "plt.show()"
   ]
  },
  {
   "attachments": {},
   "cell_type": "markdown",
   "id": "5d33eb9b-3aca-441b-8a6b-b28a6eb3e157",
   "metadata": {},
   "source": [
    "Notice: An outlier: is an observation that lies an abnormal distance from other values in a random sample from a population. In a sense, this definition leaves it up to the analyst (or a consensus process) to decide what will be considered abnormal."
   ]
  },
  {
   "cell_type": "markdown",
   "id": "14fb4b83-7533-47a3-b36a-9987cbcaec35",
   "metadata": {},
   "source": [
    "✅ Task for students: Use the Interquartile Range (IQR) method to replace outliers. \n",
    "\n",
    "**The Interquartile Range (IQR) method** is a statistical approach to identify outliers in a dataset. It calculates the difference between the 75th percentile (Q3) and the 25th percentile (Q1) of the data. Data points outside the \"fence\" defined by Q1 - 1.5xIQR and Q3 + 1.5xIQR are considered outliers."
   ]
  },
  {
   "cell_type": "code",
   "execution_count": 25,
   "id": "9ca5c715-4fbf-45bb-b9df-e85a1566e154",
   "metadata": {},
   "outputs": [],
   "source": [
    "# Removing (statistical) outliers for Amount\n",
    "Q1 = rfm.Monetary.quantile(0.25)\n",
    "Q3 = rfm.Monetary.quantile(0.75)\n",
    "IQR = Q3 - Q1\n",
    "rfm = rfm[(rfm.Monetary >= Q1 - 1.5*IQR) & (rfm.Monetary <= Q3 + 1.5*IQR)]\n",
    "\n",
    "# Removing (statistical) outliers for Recency\n",
    "Q1 = rfm.Recency.quantile(0.25)\n",
    "Q3 = rfm.Recency.quantile(0.75)\n",
    "IQR = Q3 - Q1\n",
    "rfm = rfm[(rfm.Recency >= Q1 - 1.5*IQR) & (rfm.Recency <= Q3 + 1.5*IQR)]\n",
    "\n",
    "# Removing (statistical) outliers for Frequency\n",
    "Q1 = rfm.Frequency.quantile(0.25)\n",
    "Q3 = rfm.Frequency.quantile(0.75)\n",
    "IQR = Q3 - Q1\n",
    "rfm = rfm[(rfm.Frequency >= Q1 - 1.5*IQR) & (rfm.Frequency <= Q3 + 1.5*IQR)]"
   ]
  },
  {
   "cell_type": "code",
   "execution_count": 26,
   "id": "cba6356f-256a-40f0-8bc3-ff7f3147bb86",
   "metadata": {},
   "outputs": [
    {
     "data": {
      "text/html": [
       "<div>\n",
       "<style scoped>\n",
       "    .dataframe tbody tr th:only-of-type {\n",
       "        vertical-align: middle;\n",
       "    }\n",
       "\n",
       "    .dataframe tbody tr th {\n",
       "        vertical-align: top;\n",
       "    }\n",
       "\n",
       "    .dataframe thead th {\n",
       "        text-align: right;\n",
       "    }\n",
       "</style>\n",
       "<table border=\"1\" class=\"dataframe\">\n",
       "  <thead>\n",
       "    <tr style=\"text-align: right;\">\n",
       "      <th></th>\n",
       "      <th>CustomerID</th>\n",
       "      <th>Recency</th>\n",
       "      <th>Frequency</th>\n",
       "      <th>Monetary</th>\n",
       "    </tr>\n",
       "  </thead>\n",
       "  <tbody>\n",
       "    <tr>\n",
       "      <th>2</th>\n",
       "      <td>12348.0</td>\n",
       "      <td>75</td>\n",
       "      <td>4</td>\n",
       "      <td>1797.24</td>\n",
       "    </tr>\n",
       "    <tr>\n",
       "      <th>3</th>\n",
       "      <td>12349.0</td>\n",
       "      <td>19</td>\n",
       "      <td>1</td>\n",
       "      <td>1757.55</td>\n",
       "    </tr>\n",
       "    <tr>\n",
       "      <th>4</th>\n",
       "      <td>12350.0</td>\n",
       "      <td>310</td>\n",
       "      <td>1</td>\n",
       "      <td>334.40</td>\n",
       "    </tr>\n",
       "    <tr>\n",
       "      <th>5</th>\n",
       "      <td>12352.0</td>\n",
       "      <td>36</td>\n",
       "      <td>8</td>\n",
       "      <td>2506.04</td>\n",
       "    </tr>\n",
       "    <tr>\n",
       "      <th>6</th>\n",
       "      <td>12353.0</td>\n",
       "      <td>204</td>\n",
       "      <td>1</td>\n",
       "      <td>89.00</td>\n",
       "    </tr>\n",
       "    <tr>\n",
       "      <th>...</th>\n",
       "      <td>...</td>\n",
       "      <td>...</td>\n",
       "      <td>...</td>\n",
       "      <td>...</td>\n",
       "    </tr>\n",
       "    <tr>\n",
       "      <th>4332</th>\n",
       "      <td>18278.0</td>\n",
       "      <td>74</td>\n",
       "      <td>1</td>\n",
       "      <td>173.90</td>\n",
       "    </tr>\n",
       "    <tr>\n",
       "      <th>4333</th>\n",
       "      <td>18280.0</td>\n",
       "      <td>278</td>\n",
       "      <td>1</td>\n",
       "      <td>180.60</td>\n",
       "    </tr>\n",
       "    <tr>\n",
       "      <th>4334</th>\n",
       "      <td>18281.0</td>\n",
       "      <td>181</td>\n",
       "      <td>1</td>\n",
       "      <td>80.82</td>\n",
       "    </tr>\n",
       "    <tr>\n",
       "      <th>4335</th>\n",
       "      <td>18282.0</td>\n",
       "      <td>8</td>\n",
       "      <td>2</td>\n",
       "      <td>178.05</td>\n",
       "    </tr>\n",
       "    <tr>\n",
       "      <th>4337</th>\n",
       "      <td>18287.0</td>\n",
       "      <td>43</td>\n",
       "      <td>3</td>\n",
       "      <td>1837.28</td>\n",
       "    </tr>\n",
       "  </tbody>\n",
       "</table>\n",
       "<p>3668 rows × 4 columns</p>\n",
       "</div>"
      ],
      "text/plain": [
       "      CustomerID  Recency  Frequency  Monetary\n",
       "2        12348.0       75          4   1797.24\n",
       "3        12349.0       19          1   1757.55\n",
       "4        12350.0      310          1    334.40\n",
       "5        12352.0       36          8   2506.04\n",
       "6        12353.0      204          1     89.00\n",
       "...          ...      ...        ...       ...\n",
       "4332     18278.0       74          1    173.90\n",
       "4333     18280.0      278          1    180.60\n",
       "4334     18281.0      181          1     80.82\n",
       "4335     18282.0        8          2    178.05\n",
       "4337     18287.0       43          3   1837.28\n",
       "\n",
       "[3668 rows x 4 columns]"
      ]
     },
     "execution_count": 26,
     "metadata": {},
     "output_type": "execute_result"
    }
   ],
   "source": [
    "rfm"
   ]
  },
  {
   "cell_type": "markdown",
   "id": "148d6358-a025-42e2-8db0-4146203e15eb",
   "metadata": {},
   "source": [
    "### 5. Scaling Data for Clustering"
   ]
  },
  {
   "attachments": {},
   "cell_type": "markdown",
   "id": "6d155f86-fd27-470d-9488-12f6b8c54329",
   "metadata": {},
   "source": [
    "✅ Task for students: use the standard scaler from Sklearn to scale the features"
   ]
  },
  {
   "cell_type": "code",
   "execution_count": 27,
   "id": "cd6ca456-87a4-4481-9964-479d0a45dad5",
   "metadata": {},
   "outputs": [],
   "source": [
    "# Standardize the RFM metrics to improve clustering performance \n",
    "scaler = StandardScaler()\n",
    "rfm_scaled = scaler.fit_transform(rfm[['Recency', 'Frequency', 'Monetary']])\n",
    "\n",
    "# Convert scaled data to DataFrame for easier handling\n",
    "rfm_scaled_df = pd.DataFrame(rfm_scaled, columns=['Recency', 'Frequency', 'Monetary'])"
   ]
  },
  {
   "cell_type": "code",
   "execution_count": 28,
   "id": "01522ef5-e435-4b87-9544-ba8a3dbe68ce",
   "metadata": {},
   "outputs": [
    {
     "data": {
      "text/html": [
       "<div>\n",
       "<style scoped>\n",
       "    .dataframe tbody tr th:only-of-type {\n",
       "        vertical-align: middle;\n",
       "    }\n",
       "\n",
       "    .dataframe tbody tr th {\n",
       "        vertical-align: top;\n",
       "    }\n",
       "\n",
       "    .dataframe thead th {\n",
       "        text-align: right;\n",
       "    }\n",
       "</style>\n",
       "<table border=\"1\" class=\"dataframe\">\n",
       "  <thead>\n",
       "    <tr style=\"text-align: right;\">\n",
       "      <th></th>\n",
       "      <th>Recency</th>\n",
       "      <th>Frequency</th>\n",
       "      <th>Monetary</th>\n",
       "    </tr>\n",
       "  </thead>\n",
       "  <tbody>\n",
       "    <tr>\n",
       "      <th>0</th>\n",
       "      <td>-0.233558</td>\n",
       "      <td>0.774967</td>\n",
       "      <td>1.270052</td>\n",
       "    </tr>\n",
       "    <tr>\n",
       "      <th>1</th>\n",
       "      <td>-0.821153</td>\n",
       "      <td>-0.868775</td>\n",
       "      <td>1.218016</td>\n",
       "    </tr>\n",
       "    <tr>\n",
       "      <th>2</th>\n",
       "      <td>2.232241</td>\n",
       "      <td>-0.868775</td>\n",
       "      <td>-0.647806</td>\n",
       "    </tr>\n",
       "    <tr>\n",
       "      <th>3</th>\n",
       "      <td>-0.642776</td>\n",
       "      <td>2.966623</td>\n",
       "      <td>2.199325</td>\n",
       "    </tr>\n",
       "    <tr>\n",
       "      <th>4</th>\n",
       "      <td>1.120008</td>\n",
       "      <td>-0.868775</td>\n",
       "      <td>-0.969538</td>\n",
       "    </tr>\n",
       "  </tbody>\n",
       "</table>\n",
       "</div>"
      ],
      "text/plain": [
       "    Recency  Frequency  Monetary\n",
       "0 -0.233558   0.774967  1.270052\n",
       "1 -0.821153  -0.868775  1.218016\n",
       "2  2.232241  -0.868775 -0.647806\n",
       "3 -0.642776   2.966623  2.199325\n",
       "4  1.120008  -0.868775 -0.969538"
      ]
     },
     "execution_count": 28,
     "metadata": {},
     "output_type": "execute_result"
    }
   ],
   "source": [
    "rfm_scaled_df.head()"
   ]
  },
  {
   "cell_type": "markdown",
   "id": "3db3f3c2-42c5-4e43-bea5-7130cdc3b148",
   "metadata": {},
   "source": [
    "### 6. Determining the Optimal Number of Clusters (Elbow Method)\n",
    "\n",
    "✅ Task for students: Use the Elbow Method to find the optimal number of clusters."
   ]
  },
  {
   "cell_type": "code",
   "execution_count": 36,
   "id": "bf24860b-974c-4b2e-9c90-fd560d094265",
   "metadata": {},
   "outputs": [
    {
     "name": "stderr",
     "output_type": "stream",
     "text": [
      "C:\\Users\\ImranHossain\\anaconda3\\envs\\DataMining\\lib\\site-packages\\sklearn\\cluster\\_kmeans.py:1419: UserWarning: KMeans is known to have a memory leak on Windows with MKL, when there are less chunks than available threads. You can avoid it by setting the environment variable OMP_NUM_THREADS=15.\n",
      "  warnings.warn(\n",
      "C:\\Users\\ImranHossain\\anaconda3\\envs\\DataMining\\lib\\site-packages\\sklearn\\cluster\\_kmeans.py:1419: UserWarning: KMeans is known to have a memory leak on Windows with MKL, when there are less chunks than available threads. You can avoid it by setting the environment variable OMP_NUM_THREADS=15.\n",
      "  warnings.warn(\n",
      "C:\\Users\\ImranHossain\\anaconda3\\envs\\DataMining\\lib\\site-packages\\sklearn\\cluster\\_kmeans.py:1419: UserWarning: KMeans is known to have a memory leak on Windows with MKL, when there are less chunks than available threads. You can avoid it by setting the environment variable OMP_NUM_THREADS=15.\n",
      "  warnings.warn(\n",
      "C:\\Users\\ImranHossain\\anaconda3\\envs\\DataMining\\lib\\site-packages\\sklearn\\cluster\\_kmeans.py:1419: UserWarning: KMeans is known to have a memory leak on Windows with MKL, when there are less chunks than available threads. You can avoid it by setting the environment variable OMP_NUM_THREADS=15.\n",
      "  warnings.warn(\n",
      "C:\\Users\\ImranHossain\\anaconda3\\envs\\DataMining\\lib\\site-packages\\sklearn\\cluster\\_kmeans.py:1419: UserWarning: KMeans is known to have a memory leak on Windows with MKL, when there are less chunks than available threads. You can avoid it by setting the environment variable OMP_NUM_THREADS=15.\n",
      "  warnings.warn(\n",
      "C:\\Users\\ImranHossain\\anaconda3\\envs\\DataMining\\lib\\site-packages\\sklearn\\cluster\\_kmeans.py:1419: UserWarning: KMeans is known to have a memory leak on Windows with MKL, when there are less chunks than available threads. You can avoid it by setting the environment variable OMP_NUM_THREADS=15.\n",
      "  warnings.warn(\n",
      "C:\\Users\\ImranHossain\\anaconda3\\envs\\DataMining\\lib\\site-packages\\sklearn\\cluster\\_kmeans.py:1419: UserWarning: KMeans is known to have a memory leak on Windows with MKL, when there are less chunks than available threads. You can avoid it by setting the environment variable OMP_NUM_THREADS=15.\n",
      "  warnings.warn(\n",
      "C:\\Users\\ImranHossain\\anaconda3\\envs\\DataMining\\lib\\site-packages\\sklearn\\cluster\\_kmeans.py:1419: UserWarning: KMeans is known to have a memory leak on Windows with MKL, when there are less chunks than available threads. You can avoid it by setting the environment variable OMP_NUM_THREADS=15.\n",
      "  warnings.warn(\n",
      "C:\\Users\\ImranHossain\\anaconda3\\envs\\DataMining\\lib\\site-packages\\sklearn\\cluster\\_kmeans.py:1419: UserWarning: KMeans is known to have a memory leak on Windows with MKL, when there are less chunks than available threads. You can avoid it by setting the environment variable OMP_NUM_THREADS=15.\n",
      "  warnings.warn(\n"
     ]
    },
    {
     "data": {
      "image/png": "[encoded data removed]",
      "text/plain": [
       "<Figure size 1000x500 with 1 Axes>"
      ]
     },
     "metadata": {},
     "output_type": "display_data"
    }
   ],
   "source": [
    "# Elbow Method to find the optimal number of clusters\n",
    "inertia = []\n",
    "k_range = range(2, 11)\n",
    "\n",
    "for k in k_range:\n",
    "    kmeans = KMeans(n_clusters=k, random_state=RANDOM_STATE)\n",
    "    kmeans.fit(rfm_scaled_df)\n",
    "    inertia.append(kmeans.inertia_)\n",
    "\n",
    "# Plot the Elbow Method results\n",
    "plt.figure(figsize=(10, 5))\n",
    "plt.plot(k_range, inertia, marker='o')\n",
    "plt.xlabel('Number of clusters')\n",
    "plt.ylabel('Inertia')\n",
    "plt.title('Elbow Method for Optimal K')\n",
    "plt.show()"
   ]
  },
  {
   "cell_type": "markdown",
   "id": "0ae6940d-78ee-4c20-aa5d-bd503d01e390",
   "metadata": {},
   "source": [
    "### 7. Apply K-means Clustering\n",
    "\n",
    "✅ Task for students: Using the chosen optimal `k` (e.g., 4), perform K-means clustering."
   ]
  },
  {
   "cell_type": "code",
   "execution_count": 41,
   "id": "72328867-88ca-4c97-8425-8681cd49ddad",
   "metadata": {},
   "outputs": [
    {
     "name": "stderr",
     "output_type": "stream",
     "text": [
      "C:\\Users\\ImranHossain\\anaconda3\\envs\\DataMining\\lib\\site-packages\\sklearn\\cluster\\_kmeans.py:1419: UserWarning: KMeans is known to have a memory leak on Windows with MKL, when there are less chunks than available threads. You can avoid it by setting the environment variable OMP_NUM_THREADS=15.\n",
      "  warnings.warn(\n"
     ]
    }
   ],
   "source": [
    "# Apply K-means with optimal number of clusters\n",
    "optimal_k = 4\n",
    "kmeans = KMeans(n_clusters=optimal_k, random_state=RANDOM_STATE)\n",
    "rfm['Cluster'] = kmeans.fit_predict(rfm_scaled_df)"
   ]
  },
  {
   "cell_type": "code",
   "execution_count": 42,
   "id": "1e1cbeec-b114-4a91-9fc5-56893689d11a",
   "metadata": {},
   "outputs": [
    {
     "data": {
      "text/html": [
       "<div>\n",
       "<style scoped>\n",
       "    .dataframe tbody tr th:only-of-type {\n",
       "        vertical-align: middle;\n",
       "    }\n",
       "\n",
       "    .dataframe tbody tr th {\n",
       "        vertical-align: top;\n",
       "    }\n",
       "\n",
       "    .dataframe thead th {\n",
       "        text-align: right;\n",
       "    }\n",
       "</style>\n",
       "<table border=\"1\" class=\"dataframe\">\n",
       "  <thead>\n",
       "    <tr style=\"text-align: right;\">\n",
       "      <th></th>\n",
       "      <th>CustomerID</th>\n",
       "      <th>Recency</th>\n",
       "      <th>Frequency</th>\n",
       "      <th>Monetary</th>\n",
       "      <th>Cluster</th>\n",
       "    </tr>\n",
       "  </thead>\n",
       "  <tbody>\n",
       "    <tr>\n",
       "      <th>2</th>\n",
       "      <td>12348.0</td>\n",
       "      <td>75</td>\n",
       "      <td>4</td>\n",
       "      <td>1797.24</td>\n",
       "      <td>3</td>\n",
       "    </tr>\n",
       "    <tr>\n",
       "      <th>3</th>\n",
       "      <td>12349.0</td>\n",
       "      <td>19</td>\n",
       "      <td>1</td>\n",
       "      <td>1757.55</td>\n",
       "      <td>3</td>\n",
       "    </tr>\n",
       "    <tr>\n",
       "      <th>4</th>\n",
       "      <td>12350.0</td>\n",
       "      <td>310</td>\n",
       "      <td>1</td>\n",
       "      <td>334.40</td>\n",
       "      <td>2</td>\n",
       "    </tr>\n",
       "    <tr>\n",
       "      <th>5</th>\n",
       "      <td>12352.0</td>\n",
       "      <td>36</td>\n",
       "      <td>8</td>\n",
       "      <td>2506.04</td>\n",
       "      <td>0</td>\n",
       "    </tr>\n",
       "    <tr>\n",
       "      <th>6</th>\n",
       "      <td>12353.0</td>\n",
       "      <td>204</td>\n",
       "      <td>1</td>\n",
       "      <td>89.00</td>\n",
       "      <td>2</td>\n",
       "    </tr>\n",
       "  </tbody>\n",
       "</table>\n",
       "</div>"
      ],
      "text/plain": [
       "   CustomerID  Recency  Frequency  Monetary  Cluster\n",
       "2     12348.0       75          4   1797.24        3\n",
       "3     12349.0       19          1   1757.55        3\n",
       "4     12350.0      310          1    334.40        2\n",
       "5     12352.0       36          8   2506.04        0\n",
       "6     12353.0      204          1     89.00        2"
      ]
     },
     "execution_count": 42,
     "metadata": {},
     "output_type": "execute_result"
    }
   ],
   "source": [
    "# Preview clustered data\n",
    "rfm.head()"
   ]
  },
  {
   "cell_type": "markdown",
   "id": "c809cde6-fc50-4a67-9a7d-3e9885509bd5",
   "metadata": {},
   "source": [
    "### 8. Cluster Insights and Interpretation\n",
    "✅ Task for students: Interpret each cluster based on average **Recency**, **Frequency**, and **Monetary** average (mean) values across the clusters.\n",
    "- find the mean value for each of the three variables for each cluster\n",
    "- normalize this value by dividing it by maximum mean value across the different clusters: mean recency cluster 1/maximum mean of recency across all clusters"
   ]
  },
  {
   "cell_type": "code",
   "execution_count": 43,
   "id": "586e0bfb-c4b8-47e3-aa51-93d9ed611bb4",
   "metadata": {},
   "outputs": [
    {
     "data": {
      "text/html": [
       "<div>\n",
       "<style scoped>\n",
       "    .dataframe tbody tr th:only-of-type {\n",
       "        vertical-align: middle;\n",
       "    }\n",
       "\n",
       "    .dataframe tbody tr th {\n",
       "        vertical-align: top;\n",
       "    }\n",
       "\n",
       "    .dataframe thead th {\n",
       "        text-align: right;\n",
       "    }\n",
       "</style>\n",
       "<table border=\"1\" class=\"dataframe\">\n",
       "  <thead>\n",
       "    <tr style=\"text-align: right;\">\n",
       "      <th></th>\n",
       "      <th>Recency</th>\n",
       "      <th>Frequency</th>\n",
       "      <th>Monetary</th>\n",
       "    </tr>\n",
       "    <tr>\n",
       "      <th>Cluster</th>\n",
       "      <th></th>\n",
       "      <th></th>\n",
       "      <th></th>\n",
       "    </tr>\n",
       "  </thead>\n",
       "  <tbody>\n",
       "    <tr>\n",
       "      <th>0</th>\n",
       "      <td>37.63</td>\n",
       "      <td>5.79</td>\n",
       "      <td>2340.17</td>\n",
       "    </tr>\n",
       "    <tr>\n",
       "      <th>1</th>\n",
       "      <td>54.33</td>\n",
       "      <td>1.51</td>\n",
       "      <td>411.25</td>\n",
       "    </tr>\n",
       "    <tr>\n",
       "      <th>2</th>\n",
       "      <td>243.73</td>\n",
       "      <td>1.42</td>\n",
       "      <td>393.69</td>\n",
       "    </tr>\n",
       "    <tr>\n",
       "      <th>3</th>\n",
       "      <td>47.73</td>\n",
       "      <td>3.70</td>\n",
       "      <td>1101.19</td>\n",
       "    </tr>\n",
       "  </tbody>\n",
       "</table>\n",
       "</div>"
      ],
      "text/plain": [
       "         Recency  Frequency  Monetary\n",
       "Cluster                              \n",
       "0          37.63       5.79   2340.17\n",
       "1          54.33       1.51    411.25\n",
       "2         243.73       1.42    393.69\n",
       "3          47.73       3.70   1101.19"
      ]
     },
     "execution_count": 43,
     "metadata": {},
     "output_type": "execute_result"
    }
   ],
   "source": [
    "# Calculate average values per cluster\n",
    "cluster_summary = rfm.groupby('Cluster').agg({\n",
    "    'Recency': \"mean\",\n",
    "    'Frequency': \"mean\",\n",
    "    \"Monetary\": \"mean\"\n",
    "}).round(2)\n",
    "cluster_summary"
   ]
  },
  {
   "cell_type": "code",
   "execution_count": 45,
   "id": "6b2bcecc-7219-4e30-bb69-b5865275a7ee",
   "metadata": {},
   "outputs": [],
   "source": [
    "# normalize per feature. Otherwise, it is impossible to compare the clusters\n",
    "cluster_summary = cluster_summary / cluster_summary.max(axis=0)"
   ]
  },
  {
   "cell_type": "code",
   "execution_count": 46,
   "id": "422417e0-89c3-42bd-86a9-826dad9468d8",
   "metadata": {},
   "outputs": [
    {
     "data": {
      "text/html": [
       "<div>\n",
       "<style scoped>\n",
       "    .dataframe tbody tr th:only-of-type {\n",
       "        vertical-align: middle;\n",
       "    }\n",
       "\n",
       "    .dataframe tbody tr th {\n",
       "        vertical-align: top;\n",
       "    }\n",
       "\n",
       "    .dataframe thead th {\n",
       "        text-align: right;\n",
       "    }\n",
       "</style>\n",
       "<table border=\"1\" class=\"dataframe\">\n",
       "  <thead>\n",
       "    <tr style=\"text-align: right;\">\n",
       "      <th></th>\n",
       "      <th>Recency</th>\n",
       "      <th>Frequency</th>\n",
       "      <th>Monetary</th>\n",
       "    </tr>\n",
       "    <tr>\n",
       "      <th>Cluster</th>\n",
       "      <th></th>\n",
       "      <th></th>\n",
       "      <th></th>\n",
       "    </tr>\n",
       "  </thead>\n",
       "  <tbody>\n",
       "    <tr>\n",
       "      <th>0</th>\n",
       "      <td>0.154392</td>\n",
       "      <td>1.000000</td>\n",
       "      <td>1.000000</td>\n",
       "    </tr>\n",
       "    <tr>\n",
       "      <th>1</th>\n",
       "      <td>0.222911</td>\n",
       "      <td>0.260794</td>\n",
       "      <td>0.175735</td>\n",
       "    </tr>\n",
       "    <tr>\n",
       "      <th>2</th>\n",
       "      <td>1.000000</td>\n",
       "      <td>0.245250</td>\n",
       "      <td>0.168231</td>\n",
       "    </tr>\n",
       "    <tr>\n",
       "      <th>3</th>\n",
       "      <td>0.195831</td>\n",
       "      <td>0.639033</td>\n",
       "      <td>0.470560</td>\n",
       "    </tr>\n",
       "  </tbody>\n",
       "</table>\n",
       "</div>"
      ],
      "text/plain": [
       "          Recency  Frequency  Monetary\n",
       "Cluster                               \n",
       "0        0.154392   1.000000  1.000000\n",
       "1        0.222911   0.260794  0.175735\n",
       "2        1.000000   0.245250  0.168231\n",
       "3        0.195831   0.639033  0.470560"
      ]
     },
     "execution_count": 46,
     "metadata": {},
     "output_type": "execute_result"
    }
   ],
   "source": [
    "cluster_summary"
   ]
  },
  {
   "cell_type": "code",
   "execution_count": 28,
   "id": "d795971a-0fde-4ae1-b0ab-73e3d7b1318a",
   "metadata": {},
   "outputs": [
    {
     "data": {
      "image/png": "[encoded data removed]",
      "text/plain": [
       "<Figure size 1000x600 with 2 Axes>"
      ]
     },
     "metadata": {},
     "output_type": "display_data"
    }
   ],
   "source": [
    "# Plot heatmap of cluster summary\n",
    "plt.figure(figsize=(10, 6))\n",
    "sns.heatmap(cluster_summary, annot=True, fmt=\".2f\", cmap=\"YlGnBu\", cbar=True)\n",
    "plt.title(\"Average RFM Values per Cluster\", fontsize=16, fontweight='bold')\n",
    "plt.xlabel(\"RFM Metrics\", fontweight='bold')\n",
    "plt.ylabel(\"Cluster\", fontweight='bold')\n",
    "plt.show()\n"
   ]
  },
  {
   "cell_type": "markdown",
   "id": "1fa69dd7-01ca-4e96-a40f-02ad92ffacbb",
   "metadata": {},
   "source": [
    "### 10. Conclusion and Recommendations\n",
    "\n",
    "✅ Task for students: Discuss insights such as which customer segments are \"high-value\" or \"at risk\" of churning, and potential strategies to engage each segment."
   ]
  },
  {
   "cell_type": "markdown",
   "id": "c7b2b8d5-f06f-4c0e-a18e-a83b35d9e549",
   "metadata": {},
   "source": [
    "# Conclusion and Recommendations\n",
    "\n",
    "Based on the clustering results, we can interpret each segment and provide recommendations:\n",
    "\n",
    "- **Cluster 1 (relatively medium Recency, medium/low Frequency, Low Monetary)**: Potential new customers or infrequent buyers who might be converted with special offers.\n",
    "\n",
    "- **Cluster 0 (Low Recency, High Frequency, High Monetary)**: These are \"loyal customers\" who frequently purchase and spend the most; they should be rewarded.\n",
    "\n",
    "- **Cluster 2 (High Recency, Low Frequency, Low Monetary)**: These may be \"churned\" customers who need re-engagement strategies.\n",
    "\n",
    "- **Cluster 3 (Medium Recency, Medium Frequency, Medium Monetary)**: These customers could be targeted with personalized promotions to increase loyalty"
   ]
  },
  {
   "cell_type": "code",
   "execution_count": null,
   "id": "3cddf5e5-61b4-4f50-9302-e5fd499ce5b4",
   "metadata": {},
   "outputs": [],
   "source": []
  }
 ],
 "metadata": {
  "kernelspec": {
   "display_name": "Python 3 (ipykernel)",
   "language": "python",
   "name": "python3"
  },
  "language_info": {
   "codemirror_mode": {
    "name": "ipython",
    "version": 3
   },
   "file_extension": ".py",
   "mimetype": "text/x-python",
   "name": "python",
   "nbconvert_exporter": "python",
   "pygments_lexer": "ipython3",
   "version": "3.9.18"
  }
 },
 "nbformat": 4,
 "nbformat_minor": 5
}
