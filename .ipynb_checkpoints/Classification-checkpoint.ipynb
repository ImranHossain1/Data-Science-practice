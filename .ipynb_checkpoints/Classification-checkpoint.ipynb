{
 "cells": [
  {
   "cell_type": "markdown",
   "metadata": {},
   "source": [
    "# 🧪 Classification pipeline with RDF"
   ]
  },
  {
   "cell_type": "markdown",
   "metadata": {},
   "source": [
    "### **About This Exercise**\n",
    "\n",
    "Today you will not have any tasks to solve instead you should solve this challenge completely to practice what we have learned so far.\n",
    "\n",
    "You’ll work with `data.csv`, which contain clinical and pathological data for cancer diagnoses. Each case includes measurements of three cell nuclei (radius, texture, perimeter), along with patient age, diagnosis date, treatment start date, and cancer type.\n",
    "\n",
    "### **Context**\n",
    "\n",
    "The task is to classify tissue samples as cancerous or healthy using features extracted by a pathologist. You'll build a machine learning pipeline that preprocesses this data and applies classification models to make accurate predictions. You should finally build a ML for the production phase.\n",
    "\n",
    "\n",
    "### **Goal**\n",
    "\n",
    "Your objectives:\n",
    "\n",
    "* Preprocess the data with various cleaning and transformation methods.\n",
    "* Build and tune a Random Forest (RDF) classifier.\n",
    "* Experiment with different hyperparameter settings\n",
    "* try to reduce n_estimators to 10 , what will happen?\n",
    "* you must understand all RDF options so please spend some time reading the function signature\n",
    "\n",
    "To ensure reproducibility, document your preprocessing and modeling options early in the notebook. Recommended practices include:\n",
    "\n",
    "* **Dictionary in Notebook**: Simple and effective for small projects.\n",
    "* **JSON Config File**: Useful for managing and reusing configurations.\n",
    "* **MLflow Tracking**: Best for logging experiments, metrics, and comparing results visually.\n",
    "\n",
    "These practices support consistent and trackable machine learning workflows."
   ]
  },
  {
   "cell_type": "markdown",
   "metadata": {},
   "source": [
    "#### Dictionarys you can use to save the options for the preprocessing and modeling. "
   ]
  },
  {
   "cell_type": "code",
   "execution_count": 1,
   "metadata": {},
   "outputs": [],
   "source": [
    "# Configuration dictionary to track preprocessing and modeling choices\n",
    "config = {\n",
    "    \"missing_value_strategy\": \"replace_by_mean_cancer_type\",  # Options: replace_by_med_cancer_type, replace_by_mean_cancer_type\n",
    "    \"scaling_method\": \"StandardScaler\",                       # Options: StandardScaler, RobustScaler, normalizer, MinMaxScaler\n",
    "    \"RDF\": {\"n_estimators\": 1000, # options: 5, 10, 100\n",
    "            \"max_depth\": 6,       # options: None, 2, 6\n",
    "            \"min_samples_split\":2, # options: 2, 4, 10\n",
    "            \"min_samples_leaf\":2, # options: 2, 4, 10\n",
    "            \"max_features\":0.7,\n",
    "            \"class_weight\":'balanced'}                         \n",
    "}"
   ]
  },
  {
   "cell_type": "markdown",
   "metadata": {},
   "source": [
    "#### Improt needed packages and set the random seed"
   ]
  },
  {
   "cell_type": "code",
   "execution_count": 2,
   "metadata": {},
   "outputs": [],
   "source": [
    "# Data manipulation and visualization\n",
    "import pandas as pd\n",
    "import numpy as np\n",
    "import matplotlib.pyplot as plt\n",
    "import seaborn as sns\n",
    "\n",
    "# Model and preprocessing tools will be added as needed later\n"
   ]
  },
  {
   "cell_type": "code",
   "execution_count": 3,
   "metadata": {},
   "outputs": [],
   "source": [
    "# Set global random seed for reproducibility\n",
    "RANDOM_STATE = 42\n",
    "np.random.seed(RANDOM_STATE)"
   ]
  },
  {
   "cell_type": "markdown",
   "metadata": {},
   "source": [
    "#### Read and check the data"
   ]
  },
  {
   "cell_type": "code",
   "execution_count": 4,
   "metadata": {},
   "outputs": [],
   "source": [
    "data = pd.read_csv('./data.csv',header='infer')"
   ]
  }
 ],
 "metadata": {
  "kernelspec": {
   "display_name": "Python 3 (ipykernel)",
   "language": "python",
   "name": "python3"
  },
  "language_info": {
   "codemirror_mode": {
    "name": "ipython",
    "version": 3
   },
   "file_extension": ".py",
   "mimetype": "text/x-python",
   "name": "python",
   "nbconvert_exporter": "python",
   "pygments_lexer": "ipython3",
   "version": "3.12.2"
  }
 },
 "nbformat": 4,
 "nbformat_minor": 4
}
