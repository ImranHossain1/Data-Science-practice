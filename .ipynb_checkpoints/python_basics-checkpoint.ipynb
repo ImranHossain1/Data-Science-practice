{
 "cells": [
  {
   "cell_type": "markdown",
   "id": "76bbb4b6-2e46-403a-ad72-094431e47f73",
   "metadata": {},
   "source": [
    "### Introduction to Python,  iPython Notebooks and basic packages (numpy and matplotlib)"
   ]
  },
  {
   "cell_type": "markdown",
   "id": "288c0d3a-1e9d-486b-ad80-7a4ac1124d33",
   "metadata": {},
   "source": [
    "### 1. Shell Commands in IPython\n",
    "The shell is a way to interact textually with your computer. Any command that works at the command-line can be used in IPython by prefixing it with the ! character. For example, the ls, pwd, and echo commands can be run as follows:"
   ]
  },
  {
   "cell_type": "markdown",
   "id": "d95d2db1-bbe5-4038-8ed4-037b821fa750",
   "metadata": {},
   "source": [
    "### 2. Import packages section\n",
    "Here you import the packages you need in your code but you can also do this later on when you need the packages"
   ]
  },
  {
   "cell_type": "code",
   "execution_count": 1,
   "id": "e1946cd1-9928-487c-8d2b-f2aaaa13670e",
   "metadata": {},
   "outputs": [],
   "source": [
    "import numpy as np\n",
    "import pandas as pd"
   ]
  },
  {
   "cell_type": "markdown",
   "id": "3a8e96c1-2479-4b24-a627-6b5beddc28bc",
   "metadata": {},
   "source": [
    "### 3. Accessing Documentation \n",
    "\n",
    "#### with ?\n",
    "The Python language and its data science ecosystem is built with the user in mind, and one big part of that is access to documentation. Every Python object contains the reference to a string, known as a doc string, which in most cases will contain a concise summary of the object and how to use it. Python has a built-in help() function that can access this information and prints the results. For example, to see the documentation of the built-in len function, you can do the following:\n",
    "\n",
    "```python\n",
    "In [1]: help(len)\n",
    "Help on built-in function len in module builtins:\n",
    "\n",
    "len(...)\n",
    "    len(object) -> integer\n",
    " ```   \n",
    "\n",
    "Return the number of items of a sequence or mapping."
   ]
  },
  {
   "cell_type": "code",
   "execution_count": 2,
   "id": "8965c278-f4f2-4b48-b232-c673e0f57502",
   "metadata": {},
   "outputs": [
    {
     "data": {
      "text/plain": [
       "\u001b[1;31mInit signature:\u001b[0m\n",
       "\u001b[0mpd\u001b[0m\u001b[1;33m.\u001b[0m\u001b[0mDataFrame\u001b[0m\u001b[1;33m(\u001b[0m\u001b[1;33m\n",
       "\u001b[0m    \u001b[0mdata\u001b[0m\u001b[1;33m=\u001b[0m\u001b[1;32mNone\u001b[0m\u001b[1;33m,\u001b[0m\u001b[1;33m\n",
       "\u001b[0m    \u001b[0mindex\u001b[0m\u001b[1;33m:\u001b[0m \u001b[1;34m'Axes | None'\u001b[0m \u001b[1;33m=\u001b[0m \u001b[1;32mNone\u001b[0m\u001b[1;33m,\u001b[0m\u001b[1;33m\n",
       "\u001b[0m    \u001b[0mcolumns\u001b[0m\u001b[1;33m:\u001b[0m \u001b[1;34m'Axes | None'\u001b[0m \u001b[1;33m=\u001b[0m \u001b[1;32mNone\u001b[0m\u001b[1;33m,\u001b[0m\u001b[1;33m\n",
       "\u001b[0m    \u001b[0mdtype\u001b[0m\u001b[1;33m:\u001b[0m \u001b[1;34m'Dtype | None'\u001b[0m \u001b[1;33m=\u001b[0m \u001b[1;32mNone\u001b[0m\u001b[1;33m,\u001b[0m\u001b[1;33m\n",
       "\u001b[0m    \u001b[0mcopy\u001b[0m\u001b[1;33m:\u001b[0m \u001b[1;34m'bool | None'\u001b[0m \u001b[1;33m=\u001b[0m \u001b[1;32mNone\u001b[0m\u001b[1;33m,\u001b[0m\u001b[1;33m\n",
       "\u001b[0m\u001b[1;33m)\u001b[0m \u001b[1;33m->\u001b[0m \u001b[1;34m'None'\u001b[0m\u001b[1;33m\u001b[0m\u001b[1;33m\u001b[0m\u001b[0m\n",
       "\u001b[1;31mDocstring:\u001b[0m     \n",
       "Two-dimensional, size-mutable, potentially heterogeneous tabular data.\n",
       "\n",
       "Data structure also contains labeled axes (rows and columns).\n",
       "Arithmetic operations align on both row and column labels. Can be\n",
       "thought of as a dict-like container for Series objects. The primary\n",
       "pandas data structure.\n",
       "\n",
       "Parameters\n",
       "----------\n",
       "data : ndarray (structured or homogeneous), Iterable, dict, or DataFrame\n",
       "    Dict can contain Series, arrays, constants, dataclass or list-like objects. If\n",
       "    data is a dict, column order follows insertion-order. If a dict contains Series\n",
       "    which have an index defined, it is aligned by its index. This alignment also\n",
       "    occurs if data is a Series or a DataFrame itself. Alignment is done on\n",
       "    Series/DataFrame inputs.\n",
       "\n",
       "    If data is a list of dicts, column order follows insertion-order.\n",
       "\n",
       "index : Index or array-like\n",
       "    Index to use for resulting frame. Will default to RangeIndex if\n",
       "    no indexing information part of input data and no index provided.\n",
       "columns : Index or array-like\n",
       "    Column labels to use for resulting frame when data does not have them,\n",
       "    defaulting to RangeIndex(0, 1, 2, ..., n). If data contains column labels,\n",
       "    will perform column selection instead.\n",
       "dtype : dtype, default None\n",
       "    Data type to force. Only a single dtype is allowed. If None, infer.\n",
       "copy : bool or None, default None\n",
       "    Copy data from inputs.\n",
       "    For dict data, the default of None behaves like ``copy=True``.  For DataFrame\n",
       "    or 2d ndarray input, the default of None behaves like ``copy=False``.\n",
       "    If data is a dict containing one or more Series (possibly of different dtypes),\n",
       "    ``copy=False`` will ensure that these inputs are not copied.\n",
       "\n",
       "    .. versionchanged:: 1.3.0\n",
       "\n",
       "See Also\n",
       "--------\n",
       "DataFrame.from_records : Constructor from tuples, also record arrays.\n",
       "DataFrame.from_dict : From dicts of Series, arrays, or dicts.\n",
       "read_csv : Read a comma-separated values (csv) file into DataFrame.\n",
       "read_table : Read general delimited file into DataFrame.\n",
       "read_clipboard : Read text from clipboard into DataFrame.\n",
       "\n",
       "Notes\n",
       "-----\n",
       "Please reference the :ref:`User Guide <basics.dataframe>` for more information.\n",
       "\n",
       "Examples\n",
       "--------\n",
       "Constructing DataFrame from a dictionary.\n",
       "\n",
       ">>> d = {'col1': [1, 2], 'col2': [3, 4]}\n",
       ">>> df = pd.DataFrame(data=d)\n",
       ">>> df\n",
       "   col1  col2\n",
       "0     1     3\n",
       "1     2     4\n",
       "\n",
       "Notice that the inferred dtype is int64.\n",
       "\n",
       ">>> df.dtypes\n",
       "col1    int64\n",
       "col2    int64\n",
       "dtype: object\n",
       "\n",
       "To enforce a single dtype:\n",
       "\n",
       ">>> df = pd.DataFrame(data=d, dtype=np.int8)\n",
       ">>> df.dtypes\n",
       "col1    int8\n",
       "col2    int8\n",
       "dtype: object\n",
       "\n",
       "Constructing DataFrame from a dictionary including Series:\n",
       "\n",
       ">>> d = {'col1': [0, 1, 2, 3], 'col2': pd.Series([2, 3], index=[2, 3])}\n",
       ">>> pd.DataFrame(data=d, index=[0, 1, 2, 3])\n",
       "   col1  col2\n",
       "0     0   NaN\n",
       "1     1   NaN\n",
       "2     2   2.0\n",
       "3     3   3.0\n",
       "\n",
       "Constructing DataFrame from numpy ndarray:\n",
       "\n",
       ">>> df2 = pd.DataFrame(np.array([[1, 2, 3], [4, 5, 6], [7, 8, 9]]),\n",
       "...                    columns=['a', 'b', 'c'])\n",
       ">>> df2\n",
       "   a  b  c\n",
       "0  1  2  3\n",
       "1  4  5  6\n",
       "2  7  8  9\n",
       "\n",
       "Constructing DataFrame from a numpy ndarray that has labeled columns:\n",
       "\n",
       ">>> data = np.array([(1, 2, 3), (4, 5, 6), (7, 8, 9)],\n",
       "...                 dtype=[(\"a\", \"i4\"), (\"b\", \"i4\"), (\"c\", \"i4\")])\n",
       ">>> df3 = pd.DataFrame(data, columns=['c', 'a'])\n",
       "...\n",
       ">>> df3\n",
       "   c  a\n",
       "0  3  1\n",
       "1  6  4\n",
       "2  9  7\n",
       "\n",
       "Constructing DataFrame from dataclass:\n",
       "\n",
       ">>> from dataclasses import make_dataclass\n",
       ">>> Point = make_dataclass(\"Point\", [(\"x\", int), (\"y\", int)])\n",
       ">>> pd.DataFrame([Point(0, 0), Point(0, 3), Point(2, 3)])\n",
       "   x  y\n",
       "0  0  0\n",
       "1  0  3\n",
       "2  2  3\n",
       "\n",
       "Constructing DataFrame from Series/DataFrame:\n",
       "\n",
       ">>> ser = pd.Series([1, 2, 3], index=[\"a\", \"b\", \"c\"])\n",
       ">>> df = pd.DataFrame(data=ser, index=[\"a\", \"c\"])\n",
       ">>> df\n",
       "   0\n",
       "a  1\n",
       "c  3\n",
       "\n",
       ">>> df1 = pd.DataFrame([1, 2, 3], index=[\"a\", \"b\", \"c\"], columns=[\"x\"])\n",
       ">>> df2 = pd.DataFrame(data=df1, index=[\"a\", \"c\"])\n",
       ">>> df2\n",
       "   x\n",
       "a  1\n",
       "c  3\n",
       "\u001b[1;31mFile:\u001b[0m           c:\\users\\imranhossain\\anaconda3\\envs\\datamining\\lib\\site-packages\\pandas\\core\\frame.py\n",
       "\u001b[1;31mType:\u001b[0m           type\n",
       "\u001b[1;31mSubclasses:\u001b[0m     SubclassedDataFrame"
      ]
     },
     "metadata": {},
     "output_type": "display_data"
    }
   ],
   "source": [
    "# ✅ print the signature of the DataFrame object of Pandas\n",
    "pd.DataFrame?"
   ]
  },
  {
   "cell_type": "markdown",
   "id": "5c84d3fd-cc23-48da-9f3a-dbe550537006",
   "metadata": {},
   "source": [
    "#### Accessing Source Code with ??\n"
   ]
  },
  {
   "cell_type": "markdown",
   "id": "ff777494-b77d-43a0-8b97-2bca28f16d4d",
   "metadata": {},
   "source": [
    "Another usefull tool is reading the source code of the object you're curious about. IPython provides a shortcut to the source code with the double question mark (??):"
   ]
  },
  {
   "cell_type": "code",
   "execution_count": 3,
   "id": "e6d255eb-138f-4895-b719-666f9d80034b",
   "metadata": {},
   "outputs": [
    {
     "data": {
      "text/plain": [
       "\u001b[1;31mSignature:\u001b[0m      \n",
       "\u001b[0mnp\u001b[0m\u001b[1;33m.\u001b[0m\u001b[0mmean\u001b[0m\u001b[1;33m(\u001b[0m\u001b[1;33m\n",
       "\u001b[0m    \u001b[0ma\u001b[0m\u001b[1;33m,\u001b[0m\u001b[1;33m\n",
       "\u001b[0m    \u001b[0maxis\u001b[0m\u001b[1;33m=\u001b[0m\u001b[1;32mNone\u001b[0m\u001b[1;33m,\u001b[0m\u001b[1;33m\n",
       "\u001b[0m    \u001b[0mdtype\u001b[0m\u001b[1;33m=\u001b[0m\u001b[1;32mNone\u001b[0m\u001b[1;33m,\u001b[0m\u001b[1;33m\n",
       "\u001b[0m    \u001b[0mout\u001b[0m\u001b[1;33m=\u001b[0m\u001b[1;32mNone\u001b[0m\u001b[1;33m,\u001b[0m\u001b[1;33m\n",
       "\u001b[0m    \u001b[0mkeepdims\u001b[0m\u001b[1;33m=\u001b[0m\u001b[1;33m<\u001b[0m\u001b[0mno\u001b[0m \u001b[0mvalue\u001b[0m\u001b[1;33m>\u001b[0m\u001b[1;33m,\u001b[0m\u001b[1;33m\n",
       "\u001b[0m    \u001b[1;33m*\u001b[0m\u001b[1;33m,\u001b[0m\u001b[1;33m\n",
       "\u001b[0m    \u001b[0mwhere\u001b[0m\u001b[1;33m=\u001b[0m\u001b[1;33m<\u001b[0m\u001b[0mno\u001b[0m \u001b[0mvalue\u001b[0m\u001b[1;33m>\u001b[0m\u001b[1;33m,\u001b[0m\u001b[1;33m\n",
       "\u001b[0m\u001b[1;33m)\u001b[0m\u001b[1;33m\u001b[0m\u001b[1;33m\u001b[0m\u001b[0m\n",
       "\u001b[1;31mCall signature:\u001b[0m  \u001b[0mnp\u001b[0m\u001b[1;33m.\u001b[0m\u001b[0mmean\u001b[0m\u001b[1;33m(\u001b[0m\u001b[1;33m*\u001b[0m\u001b[0margs\u001b[0m\u001b[1;33m,\u001b[0m \u001b[1;33m**\u001b[0m\u001b[0mkwargs\u001b[0m\u001b[1;33m)\u001b[0m\u001b[1;33m\u001b[0m\u001b[1;33m\u001b[0m\u001b[0m\n",
       "\u001b[1;31mType:\u001b[0m            _ArrayFunctionDispatcher\n",
       "\u001b[1;31mString form:\u001b[0m     <function mean at 0x000001DC87760820>\n",
       "\u001b[1;31mFile:\u001b[0m            c:\\users\\imranhossain\\anaconda3\\envs\\datamining\\lib\\site-packages\\numpy\\core\\fromnumeric.py\n",
       "\u001b[1;31mSource:\u001b[0m         \n",
       "\u001b[1;33m@\u001b[0m\u001b[0marray_function_dispatch\u001b[0m\u001b[1;33m(\u001b[0m\u001b[0m_mean_dispatcher\u001b[0m\u001b[1;33m)\u001b[0m\u001b[1;33m\n",
       "\u001b[0m\u001b[1;32mdef\u001b[0m \u001b[0mmean\u001b[0m\u001b[1;33m(\u001b[0m\u001b[0ma\u001b[0m\u001b[1;33m,\u001b[0m \u001b[0maxis\u001b[0m\u001b[1;33m=\u001b[0m\u001b[1;32mNone\u001b[0m\u001b[1;33m,\u001b[0m \u001b[0mdtype\u001b[0m\u001b[1;33m=\u001b[0m\u001b[1;32mNone\u001b[0m\u001b[1;33m,\u001b[0m \u001b[0mout\u001b[0m\u001b[1;33m=\u001b[0m\u001b[1;32mNone\u001b[0m\u001b[1;33m,\u001b[0m \u001b[0mkeepdims\u001b[0m\u001b[1;33m=\u001b[0m\u001b[0mnp\u001b[0m\u001b[1;33m.\u001b[0m\u001b[0m_NoValue\u001b[0m\u001b[1;33m,\u001b[0m \u001b[1;33m*\u001b[0m\u001b[1;33m,\u001b[0m\u001b[1;33m\n",
       "\u001b[0m         \u001b[0mwhere\u001b[0m\u001b[1;33m=\u001b[0m\u001b[0mnp\u001b[0m\u001b[1;33m.\u001b[0m\u001b[0m_NoValue\u001b[0m\u001b[1;33m)\u001b[0m\u001b[1;33m:\u001b[0m\u001b[1;33m\n",
       "\u001b[0m    \u001b[1;34m\"\"\"\n",
       "    Compute the arithmetic mean along the specified axis.\n",
       "\n",
       "    Returns the average of the array elements.  The average is taken over\n",
       "    the flattened array by default, otherwise over the specified axis.\n",
       "    `float64` intermediate and return values are used for integer inputs.\n",
       "\n",
       "    Parameters\n",
       "    ----------\n",
       "    a : array_like\n",
       "        Array containing numbers whose mean is desired. If `a` is not an\n",
       "        array, a conversion is attempted.\n",
       "    axis : None or int or tuple of ints, optional\n",
       "        Axis or axes along which the means are computed. The default is to\n",
       "        compute the mean of the flattened array.\n",
       "\n",
       "        .. versionadded:: 1.7.0\n",
       "\n",
       "        If this is a tuple of ints, a mean is performed over multiple axes,\n",
       "        instead of a single axis or all the axes as before.\n",
       "    dtype : data-type, optional\n",
       "        Type to use in computing the mean.  For integer inputs, the default\n",
       "        is `float64`; for floating point inputs, it is the same as the\n",
       "        input dtype.\n",
       "    out : ndarray, optional\n",
       "        Alternate output array in which to place the result.  The default\n",
       "        is ``None``; if provided, it must have the same shape as the\n",
       "        expected output, but the type will be cast if necessary.\n",
       "        See :ref:`ufuncs-output-type` for more details.\n",
       "\n",
       "    keepdims : bool, optional\n",
       "        If this is set to True, the axes which are reduced are left\n",
       "        in the result as dimensions with size one. With this option,\n",
       "        the result will broadcast correctly against the input array.\n",
       "\n",
       "        If the default value is passed, then `keepdims` will not be\n",
       "        passed through to the `mean` method of sub-classes of\n",
       "        `ndarray`, however any non-default value will be.  If the\n",
       "        sub-class' method does not implement `keepdims` any\n",
       "        exceptions will be raised.\n",
       "\n",
       "    where : array_like of bool, optional\n",
       "        Elements to include in the mean. See `~numpy.ufunc.reduce` for details.\n",
       "\n",
       "        .. versionadded:: 1.20.0\n",
       "\n",
       "    Returns\n",
       "    -------\n",
       "    m : ndarray, see dtype parameter above\n",
       "        If `out=None`, returns a new array containing the mean values,\n",
       "        otherwise a reference to the output array is returned.\n",
       "\n",
       "    See Also\n",
       "    --------\n",
       "    average : Weighted average\n",
       "    std, var, nanmean, nanstd, nanvar\n",
       "\n",
       "    Notes\n",
       "    -----\n",
       "    The arithmetic mean is the sum of the elements along the axis divided\n",
       "    by the number of elements.\n",
       "\n",
       "    Note that for floating-point input, the mean is computed using the\n",
       "    same precision the input has.  Depending on the input data, this can\n",
       "    cause the results to be inaccurate, especially for `float32` (see\n",
       "    example below).  Specifying a higher-precision accumulator using the\n",
       "    `dtype` keyword can alleviate this issue.\n",
       "\n",
       "    By default, `float16` results are computed using `float32` intermediates\n",
       "    for extra precision.\n",
       "\n",
       "    Examples\n",
       "    --------\n",
       "    >>> a = np.array([[1, 2], [3, 4]])\n",
       "    >>> np.mean(a)\n",
       "    2.5\n",
       "    >>> np.mean(a, axis=0)\n",
       "    array([2., 3.])\n",
       "    >>> np.mean(a, axis=1)\n",
       "    array([1.5, 3.5])\n",
       "\n",
       "    In single precision, `mean` can be inaccurate:\n",
       "\n",
       "    >>> a = np.zeros((2, 512*512), dtype=np.float32)\n",
       "    >>> a[0, :] = 1.0\n",
       "    >>> a[1, :] = 0.1\n",
       "    >>> np.mean(a)\n",
       "    0.54999924\n",
       "\n",
       "    Computing the mean in float64 is more accurate:\n",
       "\n",
       "    >>> np.mean(a, dtype=np.float64)\n",
       "    0.55000000074505806 # may vary\n",
       "\n",
       "    Specifying a where argument:\n",
       "\n",
       "    >>> a = np.array([[5, 9, 13], [14, 10, 12], [11, 15, 19]])\n",
       "    >>> np.mean(a)\n",
       "    12.0\n",
       "    >>> np.mean(a, where=[[True], [False], [False]])\n",
       "    9.0\n",
       "\n",
       "    \"\"\"\u001b[0m\u001b[1;33m\n",
       "\u001b[0m    \u001b[0mkwargs\u001b[0m \u001b[1;33m=\u001b[0m \u001b[1;33m{\u001b[0m\u001b[1;33m}\u001b[0m\u001b[1;33m\n",
       "\u001b[0m    \u001b[1;32mif\u001b[0m \u001b[0mkeepdims\u001b[0m \u001b[1;32mis\u001b[0m \u001b[1;32mnot\u001b[0m \u001b[0mnp\u001b[0m\u001b[1;33m.\u001b[0m\u001b[0m_NoValue\u001b[0m\u001b[1;33m:\u001b[0m\u001b[1;33m\n",
       "\u001b[0m        \u001b[0mkwargs\u001b[0m\u001b[1;33m[\u001b[0m\u001b[1;34m'keepdims'\u001b[0m\u001b[1;33m]\u001b[0m \u001b[1;33m=\u001b[0m \u001b[0mkeepdims\u001b[0m\u001b[1;33m\n",
       "\u001b[0m    \u001b[1;32mif\u001b[0m \u001b[0mwhere\u001b[0m \u001b[1;32mis\u001b[0m \u001b[1;32mnot\u001b[0m \u001b[0mnp\u001b[0m\u001b[1;33m.\u001b[0m\u001b[0m_NoValue\u001b[0m\u001b[1;33m:\u001b[0m\u001b[1;33m\n",
       "\u001b[0m        \u001b[0mkwargs\u001b[0m\u001b[1;33m[\u001b[0m\u001b[1;34m'where'\u001b[0m\u001b[1;33m]\u001b[0m \u001b[1;33m=\u001b[0m \u001b[0mwhere\u001b[0m\u001b[1;33m\n",
       "\u001b[0m    \u001b[1;32mif\u001b[0m \u001b[0mtype\u001b[0m\u001b[1;33m(\u001b[0m\u001b[0ma\u001b[0m\u001b[1;33m)\u001b[0m \u001b[1;32mis\u001b[0m \u001b[1;32mnot\u001b[0m \u001b[0mmu\u001b[0m\u001b[1;33m.\u001b[0m\u001b[0mndarray\u001b[0m\u001b[1;33m:\u001b[0m\u001b[1;33m\n",
       "\u001b[0m        \u001b[1;32mtry\u001b[0m\u001b[1;33m:\u001b[0m\u001b[1;33m\n",
       "\u001b[0m            \u001b[0mmean\u001b[0m \u001b[1;33m=\u001b[0m \u001b[0ma\u001b[0m\u001b[1;33m.\u001b[0m\u001b[0mmean\u001b[0m\u001b[1;33m\n",
       "\u001b[0m        \u001b[1;32mexcept\u001b[0m \u001b[0mAttributeError\u001b[0m\u001b[1;33m:\u001b[0m\u001b[1;33m\n",
       "\u001b[0m            \u001b[1;32mpass\u001b[0m\u001b[1;33m\n",
       "\u001b[0m        \u001b[1;32melse\u001b[0m\u001b[1;33m:\u001b[0m\u001b[1;33m\n",
       "\u001b[0m            \u001b[1;32mreturn\u001b[0m \u001b[0mmean\u001b[0m\u001b[1;33m(\u001b[0m\u001b[0maxis\u001b[0m\u001b[1;33m=\u001b[0m\u001b[0maxis\u001b[0m\u001b[1;33m,\u001b[0m \u001b[0mdtype\u001b[0m\u001b[1;33m=\u001b[0m\u001b[0mdtype\u001b[0m\u001b[1;33m,\u001b[0m \u001b[0mout\u001b[0m\u001b[1;33m=\u001b[0m\u001b[0mout\u001b[0m\u001b[1;33m,\u001b[0m \u001b[1;33m**\u001b[0m\u001b[0mkwargs\u001b[0m\u001b[1;33m)\u001b[0m\u001b[1;33m\n",
       "\u001b[0m\u001b[1;33m\n",
       "\u001b[0m    \u001b[1;32mreturn\u001b[0m \u001b[0m_methods\u001b[0m\u001b[1;33m.\u001b[0m\u001b[0m_mean\u001b[0m\u001b[1;33m(\u001b[0m\u001b[0ma\u001b[0m\u001b[1;33m,\u001b[0m \u001b[0maxis\u001b[0m\u001b[1;33m=\u001b[0m\u001b[0maxis\u001b[0m\u001b[1;33m,\u001b[0m \u001b[0mdtype\u001b[0m\u001b[1;33m=\u001b[0m\u001b[0mdtype\u001b[0m\u001b[1;33m,\u001b[0m\u001b[1;33m\n",
       "\u001b[0m                          \u001b[0mout\u001b[0m\u001b[1;33m=\u001b[0m\u001b[0mout\u001b[0m\u001b[1;33m,\u001b[0m \u001b[1;33m**\u001b[0m\u001b[0mkwargs\u001b[0m\u001b[1;33m)\u001b[0m\u001b[1;33m\u001b[0m\u001b[1;33m\u001b[0m\u001b[0m\n",
       "\u001b[1;31mClass docstring:\u001b[0m\n",
       "Class to wrap functions with checks for __array_function__ overrides.\n",
       "\n",
       "All arguments are required, and can only be passed by position.\n",
       "\n",
       "Parameters\n",
       "----------\n",
       "dispatcher : function or None\n",
       "    The dispatcher function that returns a single sequence-like object\n",
       "    of all arguments relevant.  It must have the same signature (except\n",
       "    the default values) as the actual implementation.\n",
       "    If ``None``, this is a ``like=`` dispatcher and the\n",
       "    ``_ArrayFunctionDispatcher`` must be called with ``like`` as the\n",
       "    first (additional and positional) argument.\n",
       "implementation : function\n",
       "    Function that implements the operation on NumPy arrays without\n",
       "    overrides.  Arguments passed calling the ``_ArrayFunctionDispatcher``\n",
       "    will be forwarded to this (and the ``dispatcher``) as if using\n",
       "    ``*args, **kwargs``.\n",
       "\n",
       "Attributes\n",
       "----------\n",
       "_implementation : function\n",
       "    The original implementation passed in."
      ]
     },
     "metadata": {},
     "output_type": "display_data"
    }
   ],
   "source": [
    "# ✅ print the  source code of numpy mean function\n",
    "np.mean??"
   ]
  },
  {
   "cell_type": "markdown",
   "id": "38bb3a97-b60f-4e12-88d4-4ac68bad9988",
   "metadata": {},
   "source": [
    "#### Tab-completion of object contents\n",
    "Handy tool to see a list of all available attributes of an object,  or to find all possible imports in a package ..etc"
   ]
  },
  {
   "cell_type": "code",
   "execution_count": 4,
   "id": "567154ce-90fe-4a5e-a863-e3d82c090ba1",
   "metadata": {},
   "outputs": [
    {
     "data": {
      "text/plain": [
       "array([[0., 0., 0., 0., 0., 0.],\n",
       "       [0., 0., 0., 0., 0., 0.],\n",
       "       [0., 0., 0., 0., 0., 0.],\n",
       "       [0., 0., 0., 0., 0., 0.]])"
      ]
     },
     "execution_count": 4,
     "metadata": {},
     "output_type": "execute_result"
    }
   ],
   "source": [
    "# ✅ create a array with zeros of shape 4,6 in numpy and list all its available attributes \n",
    "a= np.zeros((4,6))\n",
    "a"
   ]
  },
  {
   "cell_type": "markdown",
   "id": "b79fda52-6658-426b-9874-9d424d71d013",
   "metadata": {},
   "source": [
    "### 4. Immutable and mutable Objects in Python\n",
    "\n",
    "#### 4.1 Immutable\n",
    "Immutable objects are built-in data types such as int, float, bool, string, Unicode, and tuple . Simply put, an immutable object cannot be changed after it is created. \n",
    "\n",
    "Example 1: In this example, we take a tuple and try to change its value at a certain index and print it. Since a tuple is an immutable object, if we try to change it, an error will be thrown."
   ]
  },
  {
   "cell_type": "code",
   "execution_count": 5,
   "id": "4326f177-c525-4eac-95d1-d9768b9343f0",
   "metadata": {},
   "outputs": [
    {
     "ename": "TypeError",
     "evalue": "'tuple' object does not support item assignment",
     "output_type": "error",
     "traceback": [
      "\u001b[1;31m---------------------------------------------------------------------------\u001b[0m",
      "\u001b[1;31mTypeError\u001b[0m                                 Traceback (most recent call last)",
      "Cell \u001b[1;32mIn[5], line 4\u001b[0m\n\u001b[0;32m      1\u001b[0m \u001b[38;5;66;03m# Python code to test that \u001b[39;00m\n\u001b[0;32m      2\u001b[0m \u001b[38;5;66;03m# tuples are immutable \u001b[39;00m\n\u001b[0;32m      3\u001b[0m tuple1 \u001b[38;5;241m=\u001b[39m (\u001b[38;5;241m0\u001b[39m, \u001b[38;5;241m1\u001b[39m, \u001b[38;5;241m2\u001b[39m, \u001b[38;5;241m3\u001b[39m) \n\u001b[1;32m----> 4\u001b[0m tuple1[\u001b[38;5;241m0\u001b[39m] \u001b[38;5;241m=\u001b[39m \u001b[38;5;241m4\u001b[39m\n\u001b[0;32m      5\u001b[0m \u001b[38;5;28mprint\u001b[39m(tuple1)\n",
      "\u001b[1;31mTypeError\u001b[0m: 'tuple' object does not support item assignment"
     ]
    }
   ],
   "source": [
    "# Python code to test that \n",
    "# tuples are immutable \n",
    "tuple1 = (0, 1, 2, 3) \n",
    "tuple1[0] = 4\n",
    "print(tuple1)"
   ]
  },
  {
   "cell_type": "code",
   "execution_count": null,
   "id": "9c10a992-2369-496f-9f33-9f976e3fef85",
   "metadata": {},
   "outputs": [],
   "source": [
    "# strings are immutable \n",
    "message = \"Welcome to Data Mining course\"\n",
    "message[0] = 'p'\n",
    "print(message)"
   ]
  },
  {
   "cell_type": "markdown",
   "id": "fce9748a-42d2-41b4-b73d-a8a5a774c837",
   "metadata": {},
   "source": [
    "#### 4.2 Mutable Objects in Python\n",
    "Mutable objects are of type Python list, Python dict , or Python set . User-defined classes are generally mutable. "
   ]
  },
  {
   "cell_type": "code",
   "execution_count": 6,
   "id": "2c63928b-e8f2-4db6-8a21-7016f4797b04",
   "metadata": {},
   "outputs": [
    {
     "name": "stdout",
     "output_type": "stream",
     "text": [
      "[1, 2, 3, 4]\n",
      "[1, 5, 2, 3, 4]\n",
      "[1, 2, 3, 4]\n",
      "[2, 3, 4]\n",
      "1\n"
     ]
    }
   ],
   "source": [
    "my_list = [1, 2, 3]\n",
    "my_list.append(4)\n",
    "print(my_list)\n",
    "\n",
    "my_list.insert(1, 5)\n",
    "print(my_list)\n",
    "\n",
    "my_list.remove(5)\n",
    "print(my_list)\n",
    "\n",
    "popped_element = my_list.pop(0)\n",
    "print(my_list)  \n",
    "print(popped_element)"
   ]
  },
  {
   "cell_type": "code",
   "execution_count": 7,
   "id": "fde820fb-c66a-4976-902d-6f6d85f0f9cd",
   "metadata": {},
   "outputs": [
    {
     "name": "stdout",
     "output_type": "stream",
     "text": [
      "{'name': 'Ram', 'age': 37}\n",
      "{'name': 'Ram', 'age': 37}\n"
     ]
    }
   ],
   "source": [
    "my_dict = {\"name\": \"Ram\", \"age\": 25}\n",
    "new_dict = my_dict\n",
    "new_dict[\"age\"] = 37\n",
    "\n",
    "print(my_dict)   \n",
    "print(new_dict)"
   ]
  },
  {
   "cell_type": "code",
   "execution_count": 8,
   "id": "78d3cd20-3c6f-417e-ae02-b8355304c2d9",
   "metadata": {},
   "outputs": [
    {
     "name": "stdout",
     "output_type": "stream",
     "text": [
      "{1, 2, 3, 4}\n",
      "{1, 2, 3, 4}\n"
     ]
    }
   ],
   "source": [
    "my_set = {1, 2, 3}\n",
    "new_set = my_set\n",
    "new_set.add(4)\n",
    "\n",
    "print(my_set)   \n",
    "print(new_set)"
   ]
  },
  {
   "cell_type": "markdown",
   "id": "9d467cdb-27be-4ad2-be59-ced4009cb48c",
   "metadata": {},
   "source": [
    "### 5. List comprehension\n",
    "It’s a concise way to create a list by iterating over a sequence or range and applying an expression to each element in the iteration.\n",
    "\n",
    "A list comprehension produces -- a list!"
   ]
  },
  {
   "cell_type": "code",
   "execution_count": 9,
   "id": "c9079fb3-e150-4cc2-a896-b89b147839f1",
   "metadata": {},
   "outputs": [
    {
     "data": {
      "text/plain": [
       "[0, 1, 2, 3, 4]"
      ]
     },
     "execution_count": 9,
     "metadata": {},
     "output_type": "execute_result"
    }
   ],
   "source": [
    "[i for i in range(5)]"
   ]
  },
  {
   "cell_type": "code",
   "execution_count": 10,
   "id": "6ed3b566-46b8-4048-8403-a382f46d0fe9",
   "metadata": {},
   "outputs": [],
   "source": [
    "#  Use an if condition in a list comprehension to filter numbers from a list of values from 0 to 9.\n",
    "# The resulting list should include only the numbers that are divisible by 2 (i.e., even numbers)."
   ]
  },
  {
   "cell_type": "markdown",
   "id": "9fec8c1f-175b-4a7f-a8a2-f45f020052c1",
   "metadata": {},
   "source": [
    "### 6. Assert statements\n",
    "The assert statement exists in almost every programming language. It has two main uses:\n",
    "\n",
    "- It helps detect problems early in your program, where the cause is clear, rather than later when some other operation fails. A type error in Python, for example, can go through several layers of code before actually raising an Exception if not caught early on.\n",
    "\n",
    "- It works as documentation for other developers reading the code, who see the assert and can confidently say that its condition holds from now on."
   ]
  },
  {
   "cell_type": "code",
   "execution_count": 11,
   "id": "156fb0c6-1856-4d15-badf-5139aa948893",
   "metadata": {},
   "outputs": [],
   "source": [
    "assert (1+5)==6"
   ]
  },
  {
   "cell_type": "code",
   "execution_count": 12,
   "id": "2cc08b17-a685-468e-8e27-67627197a470",
   "metadata": {},
   "outputs": [
    {
     "ename": "AssertionError",
     "evalue": "",
     "output_type": "error",
     "traceback": [
      "\u001b[1;31m---------------------------------------------------------------------------\u001b[0m",
      "\u001b[1;31mAssertionError\u001b[0m                            Traceback (most recent call last)",
      "Cell \u001b[1;32mIn[12], line 1\u001b[0m\n\u001b[1;32m----> 1\u001b[0m \u001b[38;5;28;01massert\u001b[39;00m (\u001b[38;5;241m1\u001b[39m\u001b[38;5;241m+\u001b[39m\u001b[38;5;241m6\u001b[39m)\u001b[38;5;241m==\u001b[39m \u001b[38;5;241m8\u001b[39m\n",
      "\u001b[1;31mAssertionError\u001b[0m: "
     ]
    }
   ],
   "source": [
    "assert (1+6)== 8"
   ]
  },
  {
   "cell_type": "markdown",
   "id": "687fed17-128c-4b85-adf2-baeb38c88eb0",
   "metadata": {},
   "source": [
    "### 7. Functions in Python"
   ]
  },
  {
   "cell_type": "code",
   "execution_count": 13,
   "id": "06e528d8-adf6-45aa-b5f8-e61ba160dc45",
   "metadata": {
    "nbgrader": {
     "grade": false,
     "grade_id": "cell-34c766962f38e6da",
     "locked": false,
     "schema_version": 3,
     "solution": true,
     "task": false
    },
    "tags": []
   },
   "outputs": [],
   "source": [
    "#  implent the following function\n",
    "def add_values(a, b):\n",
    "    \"\"\"Calculate the sum a + b\"\"\"\n",
    "    return a+b"
   ]
  },
  {
   "cell_type": "code",
   "execution_count": 14,
   "id": "93c60fa5-477c-498a-8d0a-58a7edd83060",
   "metadata": {},
   "outputs": [],
   "source": [
    "assert add_values(1,3) == 4\n",
    "assert add_values(-4, 2) == -2"
   ]
  },
  {
   "cell_type": "code",
   "execution_count": 15,
   "id": "b9c3ea9f-b842-4b2a-923d-1ae7e3aceea2",
   "metadata": {
    "nbgrader": {
     "grade": false,
     "grade_id": "cell-f294cc6d93d4db92",
     "locked": false,
     "schema_version": 3,
     "solution": true,
     "task": false
    },
    "tags": []
   },
   "outputs": [],
   "source": [
    "# implement the following function \n",
    "def cumulative_sum(n):\n",
    "    \"\"\"Calculate the sum 1 + 2 + 3 + ... + n\"\"\"\n",
    "    s= 0 \n",
    "    for i in range(n+1):\n",
    "        s+=i\n",
    "    return s"
   ]
  },
  {
   "cell_type": "code",
   "execution_count": 16,
   "id": "c5e75d3e-c11f-48e1-b30e-ef124fd23a16",
   "metadata": {
    "nbgrader": {
     "grade": true,
     "grade_id": "cell-b43114636fc67f0e",
     "locked": true,
     "points": 2,
     "schema_version": 3,
     "solution": false,
     "task": false
    },
    "tags": []
   },
   "outputs": [],
   "source": [
    "assert cumulative_sum(1) == 1\n",
    "assert cumulative_sum(5) == 1 + 2 + 3 + 4 + 5\n",
    "assert cumulative_sum(100) == 5050"
   ]
  },
  {
   "cell_type": "code",
   "execution_count": 17,
   "id": "91b2ff0a-2643-449e-bc10-0040b1d956f6",
   "metadata": {
    "nbgrader": {
     "grade": false,
     "grade_id": "cell-6354c40c733a8ef7",
     "locked": false,
     "schema_version": 3,
     "solution": true,
     "task": false
    },
    "tags": []
   },
   "outputs": [],
   "source": [
    "# In Python, [::-1] is called slicing with a negative step. \n",
    "# This particular syntax is used to reverse a list or sequence (like a string) by stepping backward through it\n",
    "def is_palindrome(s):\n",
    "    \"\"\"Returns True, when s does not change when being reversed\"\"\"\n",
    "    return s== s[::-1] "
   ]
  },
  {
   "cell_type": "code",
   "execution_count": 18,
   "id": "d8d9d3b6-4744-4ccc-a8f6-bb19970c4d50",
   "metadata": {
    "nbgrader": {
     "grade": true,
     "grade_id": "cell-8718f2c3dfc11d89",
     "locked": true,
     "points": 2,
     "schema_version": 3,
     "solution": false,
     "task": false
    },
    "tags": []
   },
   "outputs": [],
   "source": [
    "assert is_palindrome(\"racecar\") == True\n",
    "assert is_palindrome(\"foo\") == False\n",
    "assert is_palindrome(\"oof\") == False\n",
    "assert is_palindrome(\"a\") == True\n",
    "assert is_palindrome(\"ab\") == False\n",
    "assert is_palindrome(\"aba\") == True\n",
    "assert is_palindrome(\"abba\") == True"
   ]
  },
  {
   "cell_type": "code",
   "execution_count": 19,
   "id": "16811a3a-9340-4403-9185-c17678f35cdf",
   "metadata": {
    "nbgrader": {
     "grade": false,
     "grade_id": "cell-00308c5a78e62c6f",
     "locked": false,
     "schema_version": 3,
     "solution": true,
     "task": false
    },
    "tags": []
   },
   "outputs": [],
   "source": [
    "# ✅ implement the following function \n",
    "\"\"\"Returns the position of the first \"a\" in s or False if none exists\"\"\"\n",
    "\n",
    "def find_the_a(s):\n",
    "    position = s.find('a')\n",
    "    return position if position != -1 else False"
   ]
  },
  {
   "cell_type": "code",
   "execution_count": 20,
   "id": "101d0903-fb09-4bd2-b2a5-51a480048f55",
   "metadata": {
    "nbgrader": {
     "grade": true,
     "grade_id": "cell-43a48a65bd4363da",
     "locked": true,
     "points": 2,
     "schema_version": 3,
     "solution": false,
     "task": false
    },
    "tags": []
   },
   "outputs": [],
   "source": [
    "assert find_the_a(\"Hallo Welt!\") == 1\n",
    "assert find_the_a(\"Bacon and Spam\") == 1\n",
    "assert find_the_a(\"edcba\") == 4\n",
    "assert find_the_a(\"Hello world!\") == False\n",
    "assert find_the_a(\"\") == False"
   ]
  },
  {
   "cell_type": "code",
   "execution_count": 21,
   "id": "5debb687-b417-4e59-aa22-83f785bc352b",
   "metadata": {
    "nbgrader": {
     "grade": false,
     "grade_id": "cell-420344f284bb3fb7",
     "locked": false,
     "schema_version": 3,
     "solution": true,
     "task": false
    },
    "tags": []
   },
   "outputs": [],
   "source": [
    "# ✅ implement the following function \n",
    "def fibonacci(n):\n",
    "    \"\"\"Returns the fibonacci sequence [1,1,2,3,5,8,...,m], with m being the last element smaller or equal n\n",
    "        see https://en.wikipedia.org/wiki/Fibonacci_number\"\"\"\n",
    "    a = [1, 1]\n",
    "    while a[-2]+a[-1]<=n:\n",
    "        a.append(a[-2]+a[-1])\n",
    "    print(a)\n",
    "    return a"
   ]
  },
  {
   "cell_type": "code",
   "execution_count": 22,
   "id": "c9611cd7-d2a3-4a7d-9b2e-25942cb76946",
   "metadata": {
    "nbgrader": {
     "grade": true,
     "grade_id": "cell-4e4da9a1d5e7f906",
     "locked": true,
     "points": 2,
     "schema_version": 3,
     "solution": false,
     "task": false
    },
    "tags": []
   },
   "outputs": [
    {
     "name": "stdout",
     "output_type": "stream",
     "text": [
      "[1, 1]\n",
      "[1, 1, 2]\n",
      "[1, 1, 2, 3]\n",
      "[1, 1, 2, 3, 5, 8, 13]\n"
     ]
    }
   ],
   "source": [
    "assert fibonacci(1) == [1,1]\n",
    "assert fibonacci(2) == [1,1,2]\n",
    "assert fibonacci(3) == [1,1,2,3]\n",
    "assert fibonacci(20) == [1,1,2,3,5,8,13]"
   ]
  },
  {
   "cell_type": "code",
   "execution_count": 23,
   "id": "1d68ba7c-aeb8-41ac-a729-ba6e514793c6",
   "metadata": {
    "nbgrader": {
     "grade": false,
     "grade_id": "cell-72baf6c8e33274f2",
     "locked": false,
     "schema_version": 3,
     "solution": true,
     "task": false
    },
    "tags": []
   },
   "outputs": [],
   "source": [
    "# ✅ Task for students: implement the following function \n",
    "def is_prime(x):\n",
    "    \"\"\"Returns True if x is a prime number\"\"\"\n",
    "    for i in range (2, x):\n",
    "        if x%i == 0:\n",
    "            return False\n",
    "    return True\n",
    "    ### BEGIN SOLUTION\n",
    "    raise NotImplementedError()\n",
    "    ### END SOLUTION "
   ]
  },
  {
   "cell_type": "code",
   "execution_count": 24,
   "id": "30061e09-bd7f-45eb-96be-b4bd1a7122a3",
   "metadata": {
    "nbgrader": {
     "grade": true,
     "grade_id": "cell-f7a3dfdf856b3e32",
     "locked": true,
     "points": 2,
     "schema_version": 3,
     "solution": false,
     "task": false
    },
    "tags": []
   },
   "outputs": [],
   "source": [
    "assert is_prime(2) == True\n",
    "assert is_prime(3) == True\n",
    "assert is_prime(4) == False\n",
    "assert is_prime(5) == True\n",
    "assert is_prime(6) == False\n",
    "assert is_prime(10) == False\n",
    "assert is_prime(101) == True"
   ]
  },
  {
   "cell_type": "markdown",
   "id": "60a7a69b-6541-49a1-83e5-56d63b1f40ec",
   "metadata": {},
   "source": [
    "### 8. Object-Oriented Programming (OOP) in Python\n"
   ]
  },
  {
   "cell_type": "code",
   "execution_count": 25,
   "id": "636487e2-01d5-42f1-8c25-57dcb3338fda",
   "metadata": {},
   "outputs": [
    {
     "name": "stdout",
     "output_type": "stream",
     "text": [
      "Buddy says woof!\n",
      "Lucy is 2 years old.\n",
      "Buddy is 4 years old.\n"
     ]
    }
   ],
   "source": [
    "class Dog:\n",
    "    # Constructor to initialize the dog's name and age\n",
    "    def __init__(self, name, age):\n",
    "        self.name = name  # attribute\n",
    "        self.age = age    # attribute\n",
    "\n",
    "    # Method to make the dog bark\n",
    "    def bark(self):\n",
    "        return f\"{self.name} says woof!\"\n",
    "\n",
    "    # Method to describe the dog\n",
    "    def describe(self):\n",
    "        return f\"{self.name} is {self.age} years old.\"\n",
    "\n",
    "# Create instances (objects) of the Dog class\n",
    "dog1 = Dog(\"Buddy\", 4)\n",
    "dog2 = Dog(\"Lucy\", 2)\n",
    "\n",
    "# Interact with the objects\n",
    "print(dog1.bark())        # Output: Buddy says woof!\n",
    "print(dog2.describe())    # Output: Lucy is 2 years old.\n",
    "print(dog1.describe())    # Output: Buddy is 4 years old.\n"
   ]
  },
  {
   "cell_type": "markdown",
   "id": "4878268c-8864-4c4e-98b1-d4669cfafd21",
   "metadata": {
    "nbgrader": {
     "grade": false,
     "grade_id": "cell-6b5badf3c0ac13d4",
     "locked": true,
     "schema_version": 3,
     "solution": false,
     "task": false
    },
    "tags": []
   },
   "source": [
    "### 9. Plotting in Ipython\n",
    "The two main libraries we will be using throughout this course, are searborn and matplotlib.\n",
    "\n",
    "✅ Task for students: try to create a plot of the following function using matplotlib:\n",
    "\n",
    "$f(x) = \\begin{cases}\n",
    "x && \\text{if } x >= 0 \\\\\n",
    "0 && \\text{else}\n",
    "\\end{cases}$"
   ]
  },
  {
   "cell_type": "code",
   "execution_count": 26,
   "id": "bc9e346d-b01f-43bb-b678-44478c5d9c25",
   "metadata": {
    "nbgrader": {
     "grade": true,
     "grade_id": "cell-2a8e8725bb6d3cdc",
     "locked": false,
     "points": 2,
     "schema_version": 3,
     "solution": true,
     "task": false
    },
    "tags": []
   },
   "outputs": [
    {
     "data": {
      "image/png": "[encoded data removed]",
      "text/plain": [
       "<Figure size 640x480 with 1 Axes>"
      ]
     },
     "metadata": {},
     "output_type": "display_data"
    }
   ],
   "source": [
    "import matplotlib.pyplot as plt\n",
    "\n",
    "# Create the plot of f from -3 <= x <= 3\n",
    "\n",
    "def f(x):\n",
    "    return np.where(x >= 0, x, 0)\n",
    "\n",
    "# Generate x values from -3 to 3\n",
    "x = np.linspace(-3, 3, 100)\n",
    "y = f(x)\n",
    "\n",
    "# Create the plot\n",
    "plt.plot(x, y, label=\"f(x)\")\n",
    "plt.xlabel(\"x\")\n",
    "plt.ylabel(\"f(x)\")\n",
    "plt.title(\"Plot of the function f(x)\")\n",
    "plt.axhline(0, color=\"gray\", linestyle=\"--\", linewidth=0.5)\n",
    "plt.axvline(0, color=\"gray\", linestyle=\"--\", linewidth=0.5)\n",
    "plt.legend()\n",
    "plt.grid(True)\n",
    "plt.show()"
   ]
  },
  {
   "cell_type": "markdown",
   "id": "3b248220-b616-4746-910a-cfc1b78b3968",
   "metadata": {},
   "source": [
    "### 🚀  10. NumPy\n",
    "NumPy is an open-source Python library that facilitates efficient numerical operations on large quantities of data. When coding in numpy remeber to leverage vectorization.\n",
    "\n",
    "***Vectorization*** allows you to operate on entire arrays without using explicit loops. This leads to faster and more readable code."
   ]
  },
  {
   "cell_type": "code",
   "execution_count": 27,
   "id": "e546c7d8-3ad7-4e08-92bd-8c5c5229a52e",
   "metadata": {},
   "outputs": [
    {
     "name": "stdout",
     "output_type": "stream",
     "text": [
      "Using loop: [2, 4, 6, 8, 10]\n",
      "Using vectorization: [ 2  4  6  8 10]\n"
     ]
    }
   ],
   "source": [
    "import numpy as np\n",
    "\n",
    "# Example: Multiply each element in an array by 2\n",
    "\n",
    "# Without vectorization (Python loop)\n",
    "a_list = [1, 2, 3, 4, 5]\n",
    "result_loop = []\n",
    "for x in a_list:\n",
    "    result_loop.append(x * 2)\n",
    "print(\"Using loop:\", result_loop)\n",
    "\n",
    "# With NumPy vectorization\n",
    "a_array = np.array([1, 2, 3, 4, 5])\n",
    "result_vectorized = a_array * 2\n",
    "print(\"Using vectorization:\", result_vectorized)"
   ]
  },
  {
   "cell_type": "markdown",
   "id": "8e4329c9-a16d-4fed-99c1-2ff1aaa756b3",
   "metadata": {},
   "source": [
    "✅ Task:\n",
    "1. Create a NumPy array from 0 to 9.\n",
    "2. Compute the square of each number using vectorization.\n",
    "3. Then, compare it to a loop-based version (you can use list comperhension)\n",
    "4. use %timeit to measure how much time does it take in both cases"
   ]
  },
  {
   "cell_type": "code",
   "execution_count": 28,
   "id": "96b61ecf-5279-48f5-a5fa-3387efda6396",
   "metadata": {},
   "outputs": [
    {
     "name": "stdout",
     "output_type": "stream",
     "text": [
      "431 µs ± 37.5 µs per loop (mean ± std. dev. of 7 runs, 1,000 loops each)\n",
      "3.16 µs ± 529 ns per loop (mean ± std. dev. of 7 runs, 100,000 loops each)\n"
     ]
    }
   ],
   "source": [
    "%timeit [x**2 for x in range(1000)]\n",
    "%timeit np.arange(1000)**2"
   ]
  },
  {
   "cell_type": "markdown",
   "id": "834e6668-a4b9-4ef4-9222-943a536d9f57",
   "metadata": {},
   "source": [
    "Build a vectorized function that returns the sigmoid of a real number x. \n",
    "\n",
    "Use math.exp(x) for the exponential function.\n",
    "The sigmoid is the function $\\sigma(x)=\\frac{1}{1+e^{-x}}$. "
   ]
  },
  {
   "cell_type": "code",
   "execution_count": 29,
   "id": "b349af17-adf7-46a7-9510-ef7d24d1bc89",
   "metadata": {},
   "outputs": [],
   "source": [
    "\n",
    "def sigmoid(x):\n",
    "    \"\"\"\n",
    "    Compute the sigmoid of x, with x being a scalar or a numpy array\n",
    "    \"\"\"\n",
    "    return 1/(1+np.exp(-x))"
   ]
  },
  {
   "cell_type": "code",
   "execution_count": 30,
   "id": "e789a3c9-fa79-4136-aa8d-133604e02f43",
   "metadata": {},
   "outputs": [],
   "source": [
    "assert np.allclose(sigmoid(np.array([1,2,3])), [0.73105858, 0.88079708, 0.95257413])"
   ]
  },
  {
   "cell_type": "markdown",
   "id": "64176eaa-88f4-4ef9-bed1-fa099989bdc6",
   "metadata": {},
   "source": [
    "Implement the numpy vectorized version of the L1 loss. You may find the function abs(x) (absolute value of x) useful.\n",
    "\n",
    "**Reminder**:\n",
    "- The loss is used to evaluate the performance of some ML models. The bigger your loss is, the more different your predictions ($ \\hat{y} $) are from the true values ($y$). In Machine learning, you use optimization algorithms like Gradient Descent to train your model and to minimize the cost.\n",
    "- L1 loss is defined as:\n",
    "$$\\begin{align*} & L_1(\\hat{y}, y) = \\sum_{i=0}^{m-1}|y^{(i)} - \\hat{y}^{(i)}| \\end{align*}\\tag{6}$$"
   ]
  },
  {
   "cell_type": "code",
   "execution_count": 31,
   "id": "64b155ee-912a-4b77-944c-4c3bb77fec72",
   "metadata": {},
   "outputs": [],
   "source": [
    "def L1(yhat, y):\n",
    "    \"\"\"\n",
    "    Arguments:\n",
    "    yhat -- vector of size m (predicted labels)\n",
    "    y -- vector of size m (true labels)\n",
    "    \n",
    "    Returns:\n",
    "    loss -- the value of the L1 loss function defined above\n",
    "    \"\"\"\n",
    "    return np.sum(np.abs(y-yhat))\n"
   ]
  },
  {
   "cell_type": "code",
   "execution_count": 32,
   "id": "577d60ef-fedd-4a46-9494-add7bd7fcbf2",
   "metadata": {},
   "outputs": [],
   "source": [
    "yhat = np.array([.9, 0.2, 0.1, .4, .9])\n",
    "y = np.array([1, 0, 0, 1, 1])\n",
    "\n",
    "assert np.allclose(L1(yhat, y), 1.1)"
   ]
  },
  {
   "cell_type": "markdown",
   "id": "8b789986-61f4-4b9a-8552-484ed169a070",
   "metadata": {},
   "source": [
    "Implement the numpy vectorized version of the L2 loss. There are several way of implementing the L2 loss but you may find the function np.dot() useful. \n",
    "\n",
    "As a reminder, if $x = [x_1, x_2, ..., x_n]$, then `np.dot(x,x)` = $\\sum_{j=0}^n x_j^{2}$. \n",
    "\n",
    "L2 loss is defined as: $$\\begin{align*} & L_2(\\hat{y},y) = \\sum_{i=0}^{m-1}(y^{(i)} - \\hat{y}^{(i)})^2 \\end{align*}\\tag{7}$$"
   ]
  },
  {
   "cell_type": "code",
   "execution_count": 33,
   "id": "1c86e4ab-e40e-4680-92bb-44df1221c710",
   "metadata": {},
   "outputs": [],
   "source": [
    "def L2(yhat, y):\n",
    "    \"\"\"\n",
    "    Arguments:\n",
    "    yhat -- vector of size m (predicted labels)\n",
    "    y -- vector of size m (true labels)\n",
    "    \n",
    "    Returns:\n",
    "    loss -- the value of the L2 loss function defined above\n",
    "    \"\"\"\n",
    "    return np.sum((y - yhat) ** 2)"
   ]
  },
  {
   "cell_type": "code",
   "execution_count": 34,
   "id": "d731fea6-5f52-4d14-8bac-62986895b31b",
   "metadata": {},
   "outputs": [],
   "source": [
    "yhat = np.array([.9, 0.2, 0.1, .4, .9])\n",
    "y = np.array([1, 0, 0, 1, 1])\n",
    "L2(yhat, y)\n",
    "assert np.allclose(L2(yhat, y), 0.43)"
   ]
  },
  {
   "cell_type": "markdown",
   "id": "effcb391-273c-4558-9929-9c63474c158c",
   "metadata": {},
   "source": [
    "<font color='blue'>\n",
    "    \n",
    "**What to remember**\n",
    "- learn the most important shortcuts of jupter notebook (add and remove a cell, write documentation, use shell...etc.)\n",
    "- Vectorization is very important in Data Mining. It provides computational efficiency and clarity.\n",
    "- Familiarize yourself with numpy functions such as, np.shape, np.reshape, np.sum, np.dot, np.multiply, np.maximum, etc..."
   ]
  },
  {
   "cell_type": "markdown",
   "id": "e69bee3d-9268-4f69-8f8d-acae850d0bd3",
   "metadata": {},
   "source": [
    "## Resources\n",
    "- [Python Data Science Handbook](http://shop.oreilly.com/product/0636920034919.do) by Jake VanderPlas; the content is available [on GitHub](https://github.com/jakevdp/PythonDataScienceHandbook).\n",
    "- [The IPython website](http://ipython.org): links to documentation, examples, tutorials, and a variety of other resources.\n",
    "- [The nbviewer website](http://nbviewer.jupyter.org/): static renderings of any IPython notebook available on the internet. \n",
    "- [A gallery of interesting Jupyter Notebooks](https://github.com/jupyter/jupyter/wiki/A-gallery-of-interesting-Jupyter-Notebooks/): This ever-growing list of notebooks, powered by nbviewer, shows the depth and breadth of numerical analysis you can do with IPython. It includes everything from short examples and tutorials to full-blown courses and books composed in the notebook format!"
   ]
  }
 ],
 "metadata": {
  "kernelspec": {
   "display_name": "Python 3 (ipykernel)",
   "language": "python",
   "name": "python3"
  },
  "language_info": {
   "codemirror_mode": {
    "name": "ipython",
    "version": 3
   },
   "file_extension": ".py",
   "mimetype": "text/x-python",
   "name": "python",
   "nbconvert_exporter": "python",
   "pygments_lexer": "ipython3",
   "version": "3.9.18"
  }
 },
 "nbformat": 4,
 "nbformat_minor": 5
}
